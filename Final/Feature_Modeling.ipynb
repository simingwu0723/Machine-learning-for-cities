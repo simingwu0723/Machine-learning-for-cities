{
 "cells": [
  {
   "cell_type": "code",
   "execution_count": 1,
   "metadata": {
    "id": "VmACs6iGn41c"
   },
   "outputs": [],
   "source": [
    "import warnings\n",
    "warnings.filterwarnings('ignore')\n",
    "import pandas as pd\n",
    "import numpy as np\n",
    "from sklearn.model_selection import train_test_split\n",
    "from sklearn.preprocessing import LabelEncoder\n",
    "from sklearn.preprocessing import OrdinalEncoder\n",
    "from sklearn.preprocessing import LabelBinarizer\n",
    "from sklearn.feature_selection import SelectKBest\n",
    "from sklearn.feature_selection import chi2\n",
    "from sklearn.feature_selection import mutual_info_classif\n",
    "\n",
    "# !pip install imbalanced-learn\n",
    "from imblearn.over_sampling import SMOTE\n",
    "\n",
    "#libray for model constructing\n",
    "from sklearn.linear_model import LogisticRegression\n",
    "from sklearn.tree import DecisionTreeClassifier\n",
    "from sklearn.ensemble import RandomForestClassifier\n",
    "from sklearn.ensemble import AdaBoostClassifier\n",
    "from sklearn.ensemble import GradientBoostingClassifier\n",
    "from sklearn.naive_bayes import GaussianNB\n",
    "from sklearn.model_selection import GridSearchCV\n",
    "from sklearn.metrics import accuracy_score\n",
    "from sklearn.metrics import roc_auc_score\n",
    "\n",
    "import matplotlib.pyplot as plt\n",
    "#The Environment and Health Data Portal: Data: https://github.com/nychealth/EHDP-data"
   ]
  },
  {
   "cell_type": "code",
   "execution_count": 2,
   "metadata": {
    "colab": {
     "base_uri": "https://localhost:8080/",
     "height": 324
    },
    "id": "elQ4DN3X3mM9",
    "outputId": "89858fc8-2eb1-4152-c268-6e20ee2678e0"
   },
   "outputs": [
    {
     "data": {
      "text/html": [
       "<div>\n",
       "<style scoped>\n",
       "    .dataframe tbody tr th:only-of-type {\n",
       "        vertical-align: middle;\n",
       "    }\n",
       "\n",
       "    .dataframe tbody tr th {\n",
       "        vertical-align: top;\n",
       "    }\n",
       "\n",
       "    .dataframe thead th {\n",
       "        text-align: right;\n",
       "    }\n",
       "</style>\n",
       "<table border=\"1\" class=\"dataframe\">\n",
       "  <thead>\n",
       "    <tr style=\"text-align: right;\">\n",
       "      <th></th>\n",
       "      <th>qGENDER</th>\n",
       "      <th>qAGECODE</th>\n",
       "      <th>qRACECODE</th>\n",
       "      <th>qEDUCATION</th>\n",
       "      <th>qINCOME</th>\n",
       "      <th>qSURVEYZONE</th>\n",
       "      <th>qZIPHOME</th>\n",
       "      <th>qBOROUGH</th>\n",
       "      <th>qLICENSE</th>\n",
       "      <th>qCARACCESS</th>\n",
       "      <th>...</th>\n",
       "      <th>Ferry</th>\n",
       "      <th>Access-A-Ride</th>\n",
       "      <th>Membership_CarSharing</th>\n",
       "      <th>Disability_Hearing</th>\n",
       "      <th>Disability_Seeing</th>\n",
       "      <th>Disability_Walking</th>\n",
       "      <th>Disability_DailyActivity</th>\n",
       "      <th>Disability_Mental</th>\n",
       "      <th>Welfare</th>\n",
       "      <th>Freight_Usage</th>\n",
       "    </tr>\n",
       "  </thead>\n",
       "  <tbody>\n",
       "    <tr>\n",
       "      <th>0</th>\n",
       "      <td>Female</td>\n",
       "      <td>35-44</td>\n",
       "      <td>White, Non-Hispanic</td>\n",
       "      <td>Graduate degree (i.e., Master's, Professional,...</td>\n",
       "      <td>$150,000-$199,999</td>\n",
       "      <td>Inner Queens</td>\n",
       "      <td>11372.0</td>\n",
       "      <td>Queens</td>\n",
       "      <td>Yes</td>\n",
       "      <td>Yes</td>\n",
       "      <td>...</td>\n",
       "      <td>No</td>\n",
       "      <td>No</td>\n",
       "      <td>No</td>\n",
       "      <td>No</td>\n",
       "      <td>No</td>\n",
       "      <td>No</td>\n",
       "      <td>No</td>\n",
       "      <td>No</td>\n",
       "      <td>No</td>\n",
       "      <td>A few times a year</td>\n",
       "    </tr>\n",
       "    <tr>\n",
       "      <th>1</th>\n",
       "      <td>Male</td>\n",
       "      <td>45-54</td>\n",
       "      <td>White, Non-Hispanic</td>\n",
       "      <td>Graduate degree (i.e., Master's, Professional,...</td>\n",
       "      <td>$200,000 and above</td>\n",
       "      <td>Outer Brooklyn</td>\n",
       "      <td>11235.0</td>\n",
       "      <td>Brooklyn</td>\n",
       "      <td>Yes</td>\n",
       "      <td>No</td>\n",
       "      <td>...</td>\n",
       "      <td>No</td>\n",
       "      <td>No</td>\n",
       "      <td>No</td>\n",
       "      <td>No</td>\n",
       "      <td>No</td>\n",
       "      <td>No</td>\n",
       "      <td>No</td>\n",
       "      <td>No</td>\n",
       "      <td>No</td>\n",
       "      <td>Several times a week</td>\n",
       "    </tr>\n",
       "    <tr>\n",
       "      <th>2</th>\n",
       "      <td>Male</td>\n",
       "      <td>35-44</td>\n",
       "      <td>Black, Non-Hispanic</td>\n",
       "      <td>Associate degree (i.e., AA, AS)</td>\n",
       "      <td>$25,000 - $34,999</td>\n",
       "      <td>Southern Bronx</td>\n",
       "      <td>10467.0</td>\n",
       "      <td>The Bronx</td>\n",
       "      <td>No</td>\n",
       "      <td>No</td>\n",
       "      <td>...</td>\n",
       "      <td>No</td>\n",
       "      <td>No</td>\n",
       "      <td>Yes</td>\n",
       "      <td>No</td>\n",
       "      <td>No</td>\n",
       "      <td>No</td>\n",
       "      <td>No</td>\n",
       "      <td>No</td>\n",
       "      <td>NYCHA Tenant/Section8 Recipent</td>\n",
       "      <td>A few times a month</td>\n",
       "    </tr>\n",
       "  </tbody>\n",
       "</table>\n",
       "<p>3 rows × 42 columns</p>\n",
       "</div>"
      ],
      "text/plain": [
       "  qGENDER qAGECODE            qRACECODE  \\\n",
       "0  Female    35-44  White, Non-Hispanic   \n",
       "1    Male    45-54  White, Non-Hispanic   \n",
       "2    Male    35-44  Black, Non-Hispanic   \n",
       "\n",
       "                                          qEDUCATION             qINCOME  \\\n",
       "0  Graduate degree (i.e., Master's, Professional,...   $150,000-$199,999   \n",
       "1  Graduate degree (i.e., Master's, Professional,...  $200,000 and above   \n",
       "2                    Associate degree (i.e., AA, AS)   $25,000 - $34,999   \n",
       "\n",
       "      qSURVEYZONE  qZIPHOME   qBOROUGH qLICENSE qCARACCESS  ... Ferry  \\\n",
       "0    Inner Queens   11372.0     Queens      Yes        Yes  ...    No   \n",
       "1  Outer Brooklyn   11235.0   Brooklyn      Yes         No  ...    No   \n",
       "2  Southern Bronx   10467.0  The Bronx       No         No  ...    No   \n",
       "\n",
       "  Access-A-Ride Membership_CarSharing Disability_Hearing Disability_Seeing  \\\n",
       "0            No                    No                 No                No   \n",
       "1            No                    No                 No                No   \n",
       "2            No                   Yes                 No                No   \n",
       "\n",
       "  Disability_Walking Disability_DailyActivity Disability_Mental  \\\n",
       "0                 No                       No                No   \n",
       "1                 No                       No                No   \n",
       "2                 No                       No                No   \n",
       "\n",
       "                          Welfare         Freight_Usage  \n",
       "0                              No    A few times a year  \n",
       "1                              No  Several times a week  \n",
       "2  NYCHA Tenant/Section8 Recipent   A few times a month  \n",
       "\n",
       "[3 rows x 42 columns]"
      ]
     },
     "execution_count": 2,
     "metadata": {},
     "output_type": "execute_result"
    }
   ],
   "source": [
    "mobility_mode = pd.read_csv('mobility_mode.csv')\n",
    "mobility_mode.head(3)"
   ]
  },
  {
   "cell_type": "markdown",
   "metadata": {
    "id": "zRODy3LSS32M"
   },
   "source": [
    "## Feature Selection\n",
    "when both of variables are categorical, then the strength of the relationship between them can be measured using a Chi-square test\n",
    "<hr>\n",
    "Chi-square test finds the probability of a Null hypothesis(H0).\n",
    "\n",
    "*   Assumption(H0): The two columns are NOT related to each other\n",
    "*   Result of Chi-Sq Test: The Probability of H0 being True\n",
    "*   the P-value came higher than 0.05. Hence H0 will be accepted,which means the variables are not correlated with each other\n",
    "\n",
    "\n"
   ]
  },
  {
   "cell_type": "markdown",
   "metadata": {
    "id": "fNql96YNsq8p"
   },
   "source": [
    "**Data Encoding**\n",
    "encode nominal and ordinal data seperately"
   ]
  },
  {
   "cell_type": "code",
   "execution_count": 3,
   "metadata": {
    "colab": {
     "base_uri": "https://localhost:8080/",
     "height": 232
    },
    "id": "PH7-qRS3oTPw",
    "outputId": "fb0fd66a-e97f-4099-bcfd-cb1022416d55"
   },
   "outputs": [],
   "source": [
    "### how to handle overlapping class\n",
    "# multi label classification\n",
    "alter_col =['Walk', 'Train/Subway', 'Bus', 'Ferry', 'Access-A-Ride']\n",
    "\n",
    "#use selectKBest from feature_selection\n",
    "# reference: https://scikit-learn.org/stable/modules/generated/sklearn.feature_selection.SelectKBest.html\n",
    "X = mobility_mode.loc[:,~mobility_mode.columns.isin(['Mode','qSURVEYZONE','qZIPHOME','qBOROUGH','Disability_DailyActivity','qEMPLOYMENTCODE']+alter_col)]\n",
    "### how to handle overlapping class\n",
    "# y = mobility_mode.loc[:,'Walk']\n",
    "y_multi = mobility_mode.loc[:,mobility_mode.columns.isin(alter_col)]"
   ]
  },
  {
   "cell_type": "code",
   "execution_count": 4,
   "metadata": {
    "colab": {
     "base_uri": "https://localhost:8080/",
     "height": 423
    },
    "id": "9uVycpuyfsMJ",
    "outputId": "25910891-1a52-4c08-a48b-844735ba32bc"
   },
   "outputs": [
    {
     "data": {
      "text/html": [
       "<div>\n",
       "<style scoped>\n",
       "    .dataframe tbody tr th:only-of-type {\n",
       "        vertical-align: middle;\n",
       "    }\n",
       "\n",
       "    .dataframe tbody tr th {\n",
       "        vertical-align: top;\n",
       "    }\n",
       "\n",
       "    .dataframe thead th {\n",
       "        text-align: right;\n",
       "    }\n",
       "</style>\n",
       "<table border=\"1\" class=\"dataframe\">\n",
       "  <thead>\n",
       "    <tr style=\"text-align: right;\">\n",
       "      <th></th>\n",
       "      <th>Walk</th>\n",
       "      <th>Train/Subway</th>\n",
       "      <th>Bus</th>\n",
       "      <th>Ferry</th>\n",
       "      <th>Access-A-Ride</th>\n",
       "    </tr>\n",
       "  </thead>\n",
       "  <tbody>\n",
       "    <tr>\n",
       "      <th>0</th>\n",
       "      <td>1.0</td>\n",
       "      <td>1.0</td>\n",
       "      <td>0.0</td>\n",
       "      <td>0.0</td>\n",
       "      <td>0.0</td>\n",
       "    </tr>\n",
       "    <tr>\n",
       "      <th>1</th>\n",
       "      <td>0.0</td>\n",
       "      <td>1.0</td>\n",
       "      <td>0.0</td>\n",
       "      <td>0.0</td>\n",
       "      <td>0.0</td>\n",
       "    </tr>\n",
       "    <tr>\n",
       "      <th>2</th>\n",
       "      <td>1.0</td>\n",
       "      <td>1.0</td>\n",
       "      <td>0.0</td>\n",
       "      <td>0.0</td>\n",
       "      <td>0.0</td>\n",
       "    </tr>\n",
       "    <tr>\n",
       "      <th>3</th>\n",
       "      <td>0.0</td>\n",
       "      <td>1.0</td>\n",
       "      <td>0.0</td>\n",
       "      <td>0.0</td>\n",
       "      <td>0.0</td>\n",
       "    </tr>\n",
       "    <tr>\n",
       "      <th>4</th>\n",
       "      <td>0.0</td>\n",
       "      <td>1.0</td>\n",
       "      <td>0.0</td>\n",
       "      <td>0.0</td>\n",
       "      <td>0.0</td>\n",
       "    </tr>\n",
       "    <tr>\n",
       "      <th>...</th>\n",
       "      <td>...</td>\n",
       "      <td>...</td>\n",
       "      <td>...</td>\n",
       "      <td>...</td>\n",
       "      <td>...</td>\n",
       "    </tr>\n",
       "    <tr>\n",
       "      <th>1539</th>\n",
       "      <td>1.0</td>\n",
       "      <td>0.0</td>\n",
       "      <td>0.0</td>\n",
       "      <td>0.0</td>\n",
       "      <td>0.0</td>\n",
       "    </tr>\n",
       "    <tr>\n",
       "      <th>1540</th>\n",
       "      <td>0.0</td>\n",
       "      <td>1.0</td>\n",
       "      <td>0.0</td>\n",
       "      <td>0.0</td>\n",
       "      <td>0.0</td>\n",
       "    </tr>\n",
       "    <tr>\n",
       "      <th>1541</th>\n",
       "      <td>0.0</td>\n",
       "      <td>0.0</td>\n",
       "      <td>0.0</td>\n",
       "      <td>0.0</td>\n",
       "      <td>0.0</td>\n",
       "    </tr>\n",
       "    <tr>\n",
       "      <th>1542</th>\n",
       "      <td>0.0</td>\n",
       "      <td>0.0</td>\n",
       "      <td>0.0</td>\n",
       "      <td>0.0</td>\n",
       "      <td>0.0</td>\n",
       "    </tr>\n",
       "    <tr>\n",
       "      <th>1543</th>\n",
       "      <td>0.0</td>\n",
       "      <td>1.0</td>\n",
       "      <td>1.0</td>\n",
       "      <td>0.0</td>\n",
       "      <td>0.0</td>\n",
       "    </tr>\n",
       "  </tbody>\n",
       "</table>\n",
       "<p>1544 rows × 5 columns</p>\n",
       "</div>"
      ],
      "text/plain": [
       "      Walk  Train/Subway  Bus  Ferry  Access-A-Ride\n",
       "0      1.0           1.0  0.0    0.0            0.0\n",
       "1      0.0           1.0  0.0    0.0            0.0\n",
       "2      1.0           1.0  0.0    0.0            0.0\n",
       "3      0.0           1.0  0.0    0.0            0.0\n",
       "4      0.0           1.0  0.0    0.0            0.0\n",
       "...    ...           ...  ...    ...            ...\n",
       "1539   1.0           0.0  0.0    0.0            0.0\n",
       "1540   0.0           1.0  0.0    0.0            0.0\n",
       "1541   0.0           0.0  0.0    0.0            0.0\n",
       "1542   0.0           0.0  0.0    0.0            0.0\n",
       "1543   0.0           1.0  1.0    0.0            0.0\n",
       "\n",
       "[1544 rows x 5 columns]"
      ]
     },
     "execution_count": 4,
     "metadata": {},
     "output_type": "execute_result"
    }
   ],
   "source": [
    "oneHot = ['qRACECODE','qMARRIED','qRENT','qEMPLOYMENT','qINDUSTRY','qWORKLOCATION','Welfare']\n",
    "ordinal = ['qAGECODE','qEDUCATION','qINCOME','qTRIPPLANAPP','gFREIGHT1b_qFREIGHT1_mA','gFREIGHT1b_qFREIGHT2_mA','gFREIGHT1b_qFREIGHT3_mA',\n",
    "           'gFREIGHT1b_qFREIGHT4_mA','qAUTOVEHICLEFAM','qAUTOVEHICLEWILL','qAUTOVEHICLESAFE','qBUILDINGb','qCHILDREN','Freight_Usage','qWORKFH',\n",
    "           'Disability_Walking','Disability_Mental','Disability_Seeing','Disability_Hearing','Membership_CarSharing','qCITIBIKE','qSMARTPHONE',\n",
    "           'qCARACCESS','qLICENSE','qGENDER']\n",
    "\n",
    "qAGECODE_cate = ['18-24','25-34','35-44','45-54','55-64','65 or older']\n",
    "qEDUCATION_cate = ['No high school','Some high school','High school graduate or equivalent (i.e., GED)',\n",
    "                   'Associate degree (i.e., AA, AS)','Some college but degree not received or in progress',\n",
    "                   'Bachelor\\'s degree (i.e., BA, BS, AB)','Graduate degree (i.e., Master\\'s, Professional, Doctorate)']\n",
    "qINCOME_cate = ['Less than $14,999','$15,000 - $24,999','$25,000 - $34,999','$35,000 - $49,999','$50,000 - $74,999',\n",
    "                '$75,000 - $99,999','$100,000 - $149,999','$150,000-$199,999','$200,000 and above']\n",
    "qTRIPPLANAPP_cate = ['Less than a few times a year','A few times a year','Less than once a month','Once a month','A few times a month',\n",
    "                     'Once a week','Several times a week','Daily']\n",
    "gFREIGHT1b_qFREIGHT1_mA_cate = ['Not applied','Less than a few times','A few times a year','A few times a month','Several times a week','Daily']\n",
    "gFREIGHT1b_qFREIGHT2_mA_cate = gFREIGHT1b_qFREIGHT1_mA_cate\n",
    "gFREIGHT1b_qFREIGHT3_mA_cate = gFREIGHT1b_qFREIGHT1_mA_cate\n",
    "gFREIGHT1b_qFREIGHT4_mA_cate = gFREIGHT1b_qFREIGHT1_mA_cate\n",
    "qAUTOVEHICLEFAM_cate = ['Not at all familiar','Not very familiar','Somewhat familiar','Very familiar']\n",
    "qAUTOVEHICLEWILL_cate = ['Not at all willing','Not very willing','Somewhat willing','Very willing']\n",
    "qAUTOVEHICLESAFE_cate = ['Don\\'t Know','Much less safe than standard vehicles','Somewhat less safe than standard vehicles',\n",
    "                         'Neither more nor less safe than standard vehicles','Somewhat safer than standard vehicles',\n",
    "                         'Much safer than standard vehicles']\n",
    "qBUILDINGb_cate = ['A building with 2 to 9 apartments','A building with 10 to 49 apartments','A building with 50 or more apartments',\n",
    "                   'A one family house attached to one or more houses','A one family house detached from any other house']\n",
    "qCHILDREN_cate = ['None','One','Two','Three','Four or more']\n",
    "Freight_Usage_cate = ['Dont know','Less than a few times','A few times a year','A few times a month','Several times a week','Daily']\n",
    "qWORKFH_cate = ['Yes, work from home','No, do not work from home']\n",
    "Disability_Walking_cate = ['Yes','No']\n",
    "Disability_Mental_cate = ['Yes','No']\n",
    "Disability_Seeing_cate = ['Yes','No']\n",
    "Disability_Hearing_cate = ['Yes','No']\n",
    "Membership_CarSharing_cate = ['Yes','No']\n",
    "qCITIBIKE_cate = ['Yes','No']\n",
    "qSMARTPHONE_cate = ['Yes','No']\n",
    "qCARACCESS_cate = ['Yes','No']\n",
    "qLICENSE_cate = qCARACCESS_cate\n",
    "qGENDER_cate = ['Female', 'Male']\n",
    "categories = [qAGECODE_cate,qEDUCATION_cate,qINCOME_cate,qTRIPPLANAPP_cate,gFREIGHT1b_qFREIGHT1_mA_cate,gFREIGHT1b_qFREIGHT2_mA_cate,\n",
    "              gFREIGHT1b_qFREIGHT3_mA_cate,gFREIGHT1b_qFREIGHT4_mA_cate,qAUTOVEHICLEFAM_cate,qAUTOVEHICLEWILL_cate,qAUTOVEHICLESAFE_cate,\n",
    "              qBUILDINGb_cate,qCHILDREN_cate,Freight_Usage_cate,qWORKFH_cate,Disability_Walking_cate,Disability_Mental_cate,\n",
    "              Disability_Seeing_cate,Disability_Hearing_cate,Membership_CarSharing_cate,qCITIBIKE_cate,qSMARTPHONE_cate,\n",
    "              qCARACCESS_cate,qLICENSE_cate, qGENDER_cate]\n",
    "\n",
    "encoder = OrdinalEncoder(categories=categories)\n",
    "ordinal_enc = encoder.fit_transform(X[ordinal])\n",
    "ordinal_df = pd.DataFrame(list(map(np.ravel, ordinal_enc)), columns=ordinal,index=X[ordinal].index)\n",
    "\n",
    "nomial_df = pd.get_dummies(X[oneHot])\n",
    "\n",
    "X_enc = pd.concat([ordinal_df,nomial_df],axis=1)\n",
    "\n",
    "\n",
    "#### for targe variables\n",
    "oe = OrdinalEncoder()\n",
    "y_multi_enc = oe.fit_transform(y_multi)\n",
    "y_enc = pd.DataFrame(list(map(np.ravel, y_multi_enc)), columns=alter_col,index=y_multi.index)\n",
    "\n",
    "y_enc"
   ]
  },
  {
   "cell_type": "markdown",
   "metadata": {},
   "source": [
    "## Multi-classification (Walk, Train & Bus)"
   ]
  },
  {
   "cell_type": "code",
   "execution_count": 66,
   "metadata": {},
   "outputs": [],
   "source": [
    "y_enc['Walk/Train/Bus'] = y_enc['Walk'] + y_enc['Train/Subway'] + y_enc['Bus']\n",
    "y_enc['Walk/Bus'] = y_enc['Walk'] + y_enc['Bus']"
   ]
  },
  {
   "cell_type": "code",
   "execution_count": 68,
   "metadata": {},
   "outputs": [
    {
     "data": {
      "text/plain": [
       "22"
      ]
     },
     "execution_count": 68,
     "metadata": {},
     "output_type": "execute_result"
    }
   ],
   "source": [
    "(y_enc['Walk/Train/Bus']==3).sum()"
   ]
  },
  {
   "cell_type": "code",
   "execution_count": null,
   "metadata": {},
   "outputs": [],
   "source": []
  },
  {
   "cell_type": "code",
   "execution_count": null,
   "metadata": {},
   "outputs": [],
   "source": []
  },
  {
   "cell_type": "code",
   "execution_count": null,
   "metadata": {},
   "outputs": [],
   "source": []
  },
  {
   "cell_type": "code",
   "execution_count": null,
   "metadata": {},
   "outputs": [],
   "source": []
  },
  {
   "cell_type": "code",
   "execution_count": null,
   "metadata": {},
   "outputs": [],
   "source": []
  },
  {
   "cell_type": "code",
   "execution_count": null,
   "metadata": {},
   "outputs": [],
   "source": []
  },
  {
   "cell_type": "code",
   "execution_count": null,
   "metadata": {},
   "outputs": [],
   "source": []
  },
  {
   "cell_type": "code",
   "execution_count": null,
   "metadata": {},
   "outputs": [],
   "source": []
  },
  {
   "cell_type": "code",
   "execution_count": null,
   "metadata": {},
   "outputs": [],
   "source": []
  },
  {
   "cell_type": "code",
   "execution_count": null,
   "metadata": {},
   "outputs": [],
   "source": []
  },
  {
   "cell_type": "code",
   "execution_count": null,
   "metadata": {},
   "outputs": [],
   "source": []
  },
  {
   "cell_type": "code",
   "execution_count": null,
   "metadata": {},
   "outputs": [],
   "source": []
  },
  {
   "cell_type": "code",
   "execution_count": null,
   "metadata": {},
   "outputs": [],
   "source": []
  },
  {
   "cell_type": "markdown",
   "metadata": {},
   "source": [
    "# Original code"
   ]
  },
  {
   "cell_type": "markdown",
   "metadata": {
    "id": "BUzhZXGts2ne"
   },
   "source": [
    "**Binary Classification** on each communting columns"
   ]
  },
  {
   "cell_type": "code",
   "execution_count": 69,
   "metadata": {
    "colab": {
     "base_uri": "https://localhost:8080/",
     "height": 457
    },
    "id": "japnNDGc6VAz",
    "outputId": "4aaf4af9-f448-403f-cfba-100cc715e7c6"
   },
   "outputs": [
    {
     "data": {
      "image/png": "[encoded data removed]",
      "text/plain": [
       "<Figure size 2000x500 with 5 Axes>"
      ]
     },
     "metadata": {},
     "output_type": "display_data"
    }
   ],
   "source": [
    "fig, axs = plt.subplots(1, len(alter_col),figsize=(20,5))\n",
    "idx = 0\n",
    "for col in alter_col:\n",
    "    y_enc.loc[:,col].value_counts().plot(kind='bar',ax=axs[idx],title=col)\n",
    "    idx +=1\n",
    "fig.savefig('label_obseration.png')"
   ]
  },
  {
   "cell_type": "code",
   "execution_count": 70,
   "metadata": {
    "id": "zvK8xa7Q8q4f"
   },
   "outputs": [],
   "source": [
    "y_multi_enc = y_enc.iloc[:,y_enc.columns.isin(['Walk','Train/Subway','Bus'])]\n",
    "### Oversampling on walk and bus, keep original record in train/subway"
   ]
  },
  {
   "cell_type": "code",
   "execution_count": 71,
   "metadata": {
    "id": "9EMbLabBEwk4"
   },
   "outputs": [],
   "source": [
    "#Feature Selection\n",
    "def select_features(method, k_num, X_train, y_train, X_test):\n",
    "    fs = SelectKBest(score_func=method, k=k_num) #chi2\n",
    "    fs.fit(X_train, y_train)\n",
    "    X_train_fs = fs.transform(X_train)\n",
    "    X_test_fs = fs.transform(X_test)\n",
    "    return X_train_fs, X_test_fs, fs\n",
    "\n",
    "# # feature selection\n",
    "# X_train_fs, X_test_fs, fs = select_features(mutual_info_classif, 8, X_train, y_train, X_test)#chi2\n",
    "# # what are scores for the features\n",
    "# cols = X_train.columns.values\n",
    "# score_dict = {}\n",
    "# for i in range(len(fs.scores_)):\n",
    "#     score_dict[cols[i]] = fs.scores_[i]"
   ]
  },
  {
   "cell_type": "code",
   "execution_count": null,
   "metadata": {},
   "outputs": [],
   "source": []
  },
  {
   "cell_type": "markdown",
   "metadata": {
    "id": "zaT7zaGL6XjK"
   },
   "source": [
    "## Modeling (Binary Classification)"
   ]
  },
  {
   "cell_type": "code",
   "execution_count": 72,
   "metadata": {
    "colab": {
     "base_uri": "https://localhost:8080/"
    },
    "id": "lHxiL7zE3RUS",
    "outputId": "a2bf4e82-50ac-4843-c307-d55c21def025"
   },
   "outputs": [
    {
     "name": "stdout",
     "output_type": "stream",
     "text": [
      "Train (2058, 67) (2058,)\n",
      "Test (309, 67) (309,)\n"
     ]
    }
   ],
   "source": [
    "# split into train and test sets\n",
    "X_train, X_test, y_train, y_test = train_test_split(X_enc, y_multi_enc['Walk'], test_size=0.2, random_state=1)\n",
    "\n",
    "# transform the dataset\n",
    "# oversampling in walk and bus\n",
    "oversample = SMOTE()\n",
    "X_train, y_train = oversample.fit_resample(X_train, y_train)\n",
    "\n",
    "# summarize\n",
    "print('Train', X_train.shape, y_train.shape)\n",
    "print('Test', X_test.shape, y_test.shape)"
   ]
  },
  {
   "cell_type": "markdown",
   "metadata": {
    "id": "a_-KGUOtL-P8"
   },
   "source": [
    "### Decision Tree"
   ]
  },
  {
   "cell_type": "code",
   "execution_count": 73,
   "metadata": {
    "colab": {
     "base_uri": "https://localhost:8080/"
    },
    "id": "rTFijwiaH6Ox",
    "outputId": "b15efe50-59d2-41ca-85b0-b6056b4afc85"
   },
   "outputs": [
    {
     "name": "stdout",
     "output_type": "stream",
     "text": [
      "DecisionTreeClassifier(max_depth=5)\n",
      "0.6598697994612391\n"
     ]
    }
   ],
   "source": [
    "# and optimize the parameter value using GridSearchCV.\n",
    "param_grid = {'max_depth':range(1,11)}\n",
    "dt=DecisionTreeClassifier()\n",
    "gr=GridSearchCV(dt,param_grid=param_grid,scoring='roc_auc')\n",
    "rs=gr.fit(X_train,y_train)\n",
    "print(rs.best_estimator_)\n",
    "print(roc_auc_score(np.array(y_test),rs.predict_proba(X_test)[:,1]))"
   ]
  },
  {
   "cell_type": "code",
   "execution_count": 74,
   "metadata": {
    "colab": {
     "base_uri": "https://localhost:8080/",
     "height": 206
    },
    "id": "HsGOv67lIV2A",
    "outputId": "90d6ea89-cf69-4870-9cee-2befb8955073"
   },
   "outputs": [
    {
     "data": {
      "text/html": [
       "<div>\n",
       "<style scoped>\n",
       "    .dataframe tbody tr th:only-of-type {\n",
       "        vertical-align: middle;\n",
       "    }\n",
       "\n",
       "    .dataframe tbody tr th {\n",
       "        vertical-align: top;\n",
       "    }\n",
       "\n",
       "    .dataframe thead th {\n",
       "        text-align: right;\n",
       "    }\n",
       "</style>\n",
       "<table border=\"1\" class=\"dataframe\">\n",
       "  <thead>\n",
       "    <tr style=\"text-align: right;\">\n",
       "      <th></th>\n",
       "      <th>variables</th>\n",
       "      <th>importance</th>\n",
       "    </tr>\n",
       "  </thead>\n",
       "  <tbody>\n",
       "    <tr>\n",
       "      <th>14</th>\n",
       "      <td>qWORKFH</td>\n",
       "      <td>0.490393</td>\n",
       "    </tr>\n",
       "    <tr>\n",
       "      <th>22</th>\n",
       "      <td>qCARACCESS</td>\n",
       "      <td>0.243814</td>\n",
       "    </tr>\n",
       "    <tr>\n",
       "      <th>20</th>\n",
       "      <td>qCITIBIKE</td>\n",
       "      <td>0.060853</td>\n",
       "    </tr>\n",
       "    <tr>\n",
       "      <th>4</th>\n",
       "      <td>gFREIGHT1b_qFREIGHT1_mA</td>\n",
       "      <td>0.035348</td>\n",
       "    </tr>\n",
       "    <tr>\n",
       "      <th>26</th>\n",
       "      <td>qRACECODE_Black, Non-Hispanic</td>\n",
       "      <td>0.03533</td>\n",
       "    </tr>\n",
       "  </tbody>\n",
       "</table>\n",
       "</div>"
      ],
      "text/plain": [
       "                        variables importance\n",
       "14                        qWORKFH   0.490393\n",
       "22                     qCARACCESS   0.243814\n",
       "20                      qCITIBIKE   0.060853\n",
       "4         gFREIGHT1b_qFREIGHT1_mA   0.035348\n",
       "26  qRACECODE_Black, Non-Hispanic    0.03533"
      ]
     },
     "execution_count": 74,
     "metadata": {},
     "output_type": "execute_result"
    }
   ],
   "source": [
    "dt = DecisionTreeClassifier(max_depth=6)\n",
    "dt.fit(X_train, y_train)\n",
    "Feature_importance=pd.DataFrame([list(X_train.columns),list(dt.feature_importances_)]).T\n",
    "Feature_importance.columns=[\"variables\",\"importance\"]\n",
    "\n",
    "# list the top 5 most important features in order\n",
    "Feature_importance.sort_values(by=\"importance\",ascending=False).iloc[:5,:]"
   ]
  },
  {
   "cell_type": "code",
   "execution_count": 75,
   "metadata": {
    "colab": {
     "base_uri": "https://localhost:8080/"
    },
    "id": "H0JzpJR2IjFJ",
    "outputId": "78d4c0b9-f994-4ec7-afe2-88763b6f2674"
   },
   "outputs": [
    {
     "name": "stdout",
     "output_type": "stream",
     "text": [
      "The AUC score for this simple model with 4 features is 0.6896513020053876\n"
     ]
    }
   ],
   "source": [
    "# Let's generate our new training and testing model using the top three features.\n",
    "top5_features = Feature_importance.sort_values(by=\"importance\",ascending=False).iloc[:4,:].variables.tolist()\n",
    "X_train_simple=X_train.loc[:,top5_features]\n",
    "X_test_simple=X_test.loc[:,top5_features]\n",
    "\n",
    "# Now let's see the performance of this simple model.\n",
    "dt = DecisionTreeClassifier(max_depth=6)\n",
    "dt.fit(X_train_simple, y_train)\n",
    "print(\"The AUC score for this simple model with 4 features is\",roc_auc_score(y_test,dt.predict_proba(X_test_simple)[:,1]))"
   ]
  },
  {
   "cell_type": "code",
   "execution_count": 23,
   "metadata": {
    "colab": {
     "base_uri": "https://localhost:8080/",
     "height": 514
    },
    "id": "RC2AFhHUKQUF",
    "outputId": "c834e00f-99e6-42aa-cfee-62397bd38dc0"
   },
   "outputs": [
    {
     "ename": "InvocationException",
     "evalue": "GraphViz's executables not found",
     "output_type": "error",
     "traceback": [
      "\u001b[0;31m---------------------------------------------------------------------------\u001b[0m",
      "\u001b[0;31mInvocationException\u001b[0m                       Traceback (most recent call last)",
      "\u001b[0;32m/var/folders/7c/bp48l0415fl7fzm4x_fv4cc40000gn/T/ipykernel_31619/2006094442.py\u001b[0m in \u001b[0;36m<module>\u001b[0;34m\u001b[0m\n\u001b[1;32m     11\u001b[0m                          special_characters=True,impurity=False)\n\u001b[1;32m     12\u001b[0m \u001b[0mgraph\u001b[0m \u001b[0;34m=\u001b[0m \u001b[0mpydotplus\u001b[0m\u001b[0;34m.\u001b[0m\u001b[0mgraph_from_dot_data\u001b[0m\u001b[0;34m(\u001b[0m\u001b[0mthestring\u001b[0m\u001b[0;34m)\u001b[0m\u001b[0;34m\u001b[0m\u001b[0;34m\u001b[0m\u001b[0m\n\u001b[0;32m---> 13\u001b[0;31m \u001b[0mImage\u001b[0m\u001b[0;34m(\u001b[0m\u001b[0mgraph\u001b[0m\u001b[0;34m.\u001b[0m\u001b[0mcreate_png\u001b[0m\u001b[0;34m(\u001b[0m\u001b[0;34m)\u001b[0m\u001b[0;34m)\u001b[0m\u001b[0;34m\u001b[0m\u001b[0;34m\u001b[0m\u001b[0m\n\u001b[0m",
      "\u001b[0;32m~/opt/anaconda3/lib/python3.9/site-packages/pydotplus/graphviz.py\u001b[0m in \u001b[0;36m<lambda>\u001b[0;34m(f, prog)\u001b[0m\n\u001b[1;32m   1795\u001b[0m             self.__setattr__(\n\u001b[1;32m   1796\u001b[0m                 \u001b[0;34m'create_'\u001b[0m \u001b[0;34m+\u001b[0m \u001b[0mfrmt\u001b[0m\u001b[0;34m,\u001b[0m\u001b[0;34m\u001b[0m\u001b[0;34m\u001b[0m\u001b[0m\n\u001b[0;32m-> 1797\u001b[0;31m                 \u001b[0;32mlambda\u001b[0m \u001b[0mf\u001b[0m\u001b[0;34m=\u001b[0m\u001b[0mfrmt\u001b[0m\u001b[0;34m,\u001b[0m \u001b[0mprog\u001b[0m\u001b[0;34m=\u001b[0m\u001b[0mself\u001b[0m\u001b[0;34m.\u001b[0m\u001b[0mprog\u001b[0m\u001b[0;34m:\u001b[0m \u001b[0mself\u001b[0m\u001b[0;34m.\u001b[0m\u001b[0mcreate\u001b[0m\u001b[0;34m(\u001b[0m\u001b[0mformat\u001b[0m\u001b[0;34m=\u001b[0m\u001b[0mf\u001b[0m\u001b[0;34m,\u001b[0m \u001b[0mprog\u001b[0m\u001b[0;34m=\u001b[0m\u001b[0mprog\u001b[0m\u001b[0;34m)\u001b[0m\u001b[0;34m\u001b[0m\u001b[0;34m\u001b[0m\u001b[0m\n\u001b[0m\u001b[1;32m   1798\u001b[0m             )\n\u001b[1;32m   1799\u001b[0m             \u001b[0mf\u001b[0m \u001b[0;34m=\u001b[0m \u001b[0mself\u001b[0m\u001b[0;34m.\u001b[0m\u001b[0m__dict__\u001b[0m\u001b[0;34m[\u001b[0m\u001b[0;34m'create_'\u001b[0m \u001b[0;34m+\u001b[0m \u001b[0mfrmt\u001b[0m\u001b[0;34m]\u001b[0m\u001b[0;34m\u001b[0m\u001b[0;34m\u001b[0m\u001b[0m\n",
      "\u001b[0;32m~/opt/anaconda3/lib/python3.9/site-packages/pydotplus/graphviz.py\u001b[0m in \u001b[0;36mcreate\u001b[0;34m(self, prog, format)\u001b[0m\n\u001b[1;32m   1957\u001b[0m             \u001b[0mself\u001b[0m\u001b[0;34m.\u001b[0m\u001b[0mprogs\u001b[0m \u001b[0;34m=\u001b[0m \u001b[0mfind_graphviz\u001b[0m\u001b[0;34m(\u001b[0m\u001b[0;34m)\u001b[0m\u001b[0;34m\u001b[0m\u001b[0;34m\u001b[0m\u001b[0m\n\u001b[1;32m   1958\u001b[0m             \u001b[0;32mif\u001b[0m \u001b[0mself\u001b[0m\u001b[0;34m.\u001b[0m\u001b[0mprogs\u001b[0m \u001b[0;32mis\u001b[0m \u001b[0;32mNone\u001b[0m\u001b[0;34m:\u001b[0m\u001b[0;34m\u001b[0m\u001b[0;34m\u001b[0m\u001b[0m\n\u001b[0;32m-> 1959\u001b[0;31m                 raise InvocationException(\n\u001b[0m\u001b[1;32m   1960\u001b[0m                     'GraphViz\\'s executables not found')\n\u001b[1;32m   1961\u001b[0m \u001b[0;34m\u001b[0m\u001b[0m\n",
      "\u001b[0;31mInvocationException\u001b[0m: GraphViz's executables not found"
     ]
    }
   ],
   "source": [
    "# This will only work if GraphViz is installed on your machine\n",
    "from sklearn import tree\n",
    "from IPython.display import Image  \n",
    "import pydotplus\n",
    "dt = DecisionTreeClassifier(max_depth=3)\n",
    "dt.fit(X_train_simple, y_train)\n",
    "thestring = tree.export_graphviz(dt, out_file=None,  \n",
    "                         feature_names=X_train_simple.columns.values, \n",
    "                         class_names=['walk','no walk'],  \n",
    "                         filled=True, rounded=True,  \n",
    "                         special_characters=True,impurity=False)\n",
    "graph = pydotplus.graph_from_dot_data(thestring)  \n",
    "Image(graph.create_png())  "
   ]
  },
  {
   "cell_type": "markdown",
   "metadata": {
    "id": "jYZIgl_oREiL"
   },
   "source": [
    "### Random Forest"
   ]
  },
  {
   "cell_type": "code",
   "execution_count": 24,
   "metadata": {
    "colab": {
     "base_uri": "https://localhost:8080/"
    },
    "id": "6lqp_PlJTgSx",
    "outputId": "9ad28aaf-e843-4a74-9b18-52357b1bad8a"
   },
   "outputs": [
    {
     "name": "stdout",
     "output_type": "stream",
     "text": [
      "RandomForestClassifier(max_leaf_nodes=10, n_estimators=49, n_jobs=-1)\n",
      "0.7194702184974558\n"
     ]
    }
   ],
   "source": [
    "param_grid = {'n_estimators':range(1,51,2)}\n",
    "rf = RandomForestClassifier(n_jobs=-1,max_leaf_nodes=10)\n",
    "gs = GridSearchCV(rf,param_grid=param_grid,scoring='roc_auc')\n",
    "rs = gs.fit(X_train,y_train)\n",
    "pred=rs.predict_proba(X_test)[:,1]\n",
    "print(rs.best_estimator_)\n",
    "print(roc_auc_score(np.array(y_test),pred))"
   ]
  },
  {
   "cell_type": "code",
   "execution_count": 25,
   "metadata": {
    "colab": {
     "base_uri": "https://localhost:8080/",
     "height": 206
    },
    "id": "uF7zmnjLL4rL",
    "outputId": "beb69973-eb97-4306-c0b0-ab9219b85536"
   },
   "outputs": [
    {
     "data": {
      "text/html": [
       "<div>\n",
       "<style scoped>\n",
       "    .dataframe tbody tr th:only-of-type {\n",
       "        vertical-align: middle;\n",
       "    }\n",
       "\n",
       "    .dataframe tbody tr th {\n",
       "        vertical-align: top;\n",
       "    }\n",
       "\n",
       "    .dataframe thead th {\n",
       "        text-align: right;\n",
       "    }\n",
       "</style>\n",
       "<table border=\"1\" class=\"dataframe\">\n",
       "  <thead>\n",
       "    <tr style=\"text-align: right;\">\n",
       "      <th></th>\n",
       "      <th>variables</th>\n",
       "      <th>importance</th>\n",
       "    </tr>\n",
       "  </thead>\n",
       "  <tbody>\n",
       "    <tr>\n",
       "      <th>14</th>\n",
       "      <td>qWORKFH</td>\n",
       "      <td>0.271414</td>\n",
       "    </tr>\n",
       "    <tr>\n",
       "      <th>22</th>\n",
       "      <td>qCARACCESS</td>\n",
       "      <td>0.113305</td>\n",
       "    </tr>\n",
       "    <tr>\n",
       "      <th>26</th>\n",
       "      <td>qRACECODE_Black, Non-Hispanic</td>\n",
       "      <td>0.086266</td>\n",
       "    </tr>\n",
       "    <tr>\n",
       "      <th>3</th>\n",
       "      <td>qTRIPPLANAPP</td>\n",
       "      <td>0.057127</td>\n",
       "    </tr>\n",
       "    <tr>\n",
       "      <th>45</th>\n",
       "      <td>qINDUSTRY_Health Care/Social Assistance</td>\n",
       "      <td>0.042908</td>\n",
       "    </tr>\n",
       "  </tbody>\n",
       "</table>\n",
       "</div>"
      ],
      "text/plain": [
       "                                  variables importance\n",
       "14                                  qWORKFH   0.271414\n",
       "22                               qCARACCESS   0.113305\n",
       "26            qRACECODE_Black, Non-Hispanic   0.086266\n",
       "3                              qTRIPPLANAPP   0.057127\n",
       "45  qINDUSTRY_Health Care/Social Assistance   0.042908"
      ]
     },
     "execution_count": 25,
     "metadata": {},
     "output_type": "execute_result"
    }
   ],
   "source": [
    "rf = RandomForestClassifier(max_leaf_nodes=10, n_estimators=41, n_jobs=-1)\n",
    "rf.fit(X_train, y_train)\n",
    "\n",
    "Feature_importance=pd.DataFrame([list(X_train.columns),list(rf.feature_importances_)]).T\n",
    "Feature_importance.columns=[\"variables\",\"importance\"]\n",
    "\n",
    "# list the top 5 most important features in order\n",
    "Feature_importance.sort_values(by=\"importance\",ascending=False).iloc[:5,:]"
   ]
  },
  {
   "cell_type": "code",
   "execution_count": 26,
   "metadata": {
    "colab": {
     "base_uri": "https://localhost:8080/"
    },
    "id": "Zx-BN7TpMIzo",
    "outputId": "091bf29f-a04e-4ccc-e4d3-1ce690b267b5"
   },
   "outputs": [
    {
     "name": "stdout",
     "output_type": "stream",
     "text": [
      "RandomForestClassifier(max_leaf_nodes=10, n_estimators=49, n_jobs=-1)\n",
      "0.6830290332235858\n"
     ]
    }
   ],
   "source": [
    "# Let's generate our new training and testing model using the top three features.\n",
    "### No improvement after feature selections\n",
    "top5_features = Feature_importance.sort_values(by=\"importance\",ascending=False).iloc[:5,:].variables.tolist()\n",
    "X_train_simple=X_train.loc[:,top5_features]\n",
    "X_test_simple=X_test.loc[:,top5_features]\n",
    "\n",
    "param_grid = {'n_estimators':range(1,51,2)}\n",
    "rf = RandomForestClassifier(n_jobs=-1,max_leaf_nodes=10)\n",
    "gs = GridSearchCV(rf,param_grid=param_grid,scoring='roc_auc')\n",
    "rs = gs.fit(X_train_simple, y_train)\n",
    "pred=rs.predict_proba(X_test_simple)[:,1]\n",
    "print(rs.best_estimator_)\n",
    "print(roc_auc_score(np.array(y_test),pred))"
   ]
  },
  {
   "cell_type": "markdown",
   "metadata": {
    "id": "nOC492mvNlVK"
   },
   "source": [
    "## AdaBoosting"
   ]
  },
  {
   "cell_type": "code",
   "execution_count": 27,
   "metadata": {
    "colab": {
     "base_uri": "https://localhost:8080/",
     "height": 487
    },
    "id": "BH4pb2TMOddc",
    "outputId": "1b636bcf-3adb-4b5e-fd31-923c36757654"
   },
   "outputs": [
    {
     "data": {
      "image/png": "[encoded data removed]",
      "text/plain": [
       "<Figure size 700x500 with 1 Axes>"
      ]
     },
     "metadata": {},
     "output_type": "display_data"
    }
   ],
   "source": [
    "AUC=[]\n",
    "for i in range(1,101,5):\n",
    "    clf = AdaBoostClassifier(n_estimators=i)\n",
    "    clf.fit(X_train, y_train)\n",
    "    pred=clf.predict_proba(X_test)[:,1]\n",
    "    AUC.append(roc_auc_score(np.array(y_test),pred))\n",
    "\n",
    "plt.figure(figsize=(7,5))\n",
    "plt.plot(range(1,101,5),AUC)\n",
    "plt.xlabel(\"Number of trees in forest\")\n",
    "plt.ylabel(\"OS_AUC\")\n",
    "plt.title(\"AUC vs num_estimators\")\n",
    "plt.xlim(1,101)\n",
    "plt.show()"
   ]
  },
  {
   "cell_type": "code",
   "execution_count": 28,
   "metadata": {
    "colab": {
     "base_uri": "https://localhost:8080/"
    },
    "id": "T3P_4AstN7Jo",
    "outputId": "5aa1646c-88f2-4324-e2bd-1f22c900e8d6"
   },
   "outputs": [
    {
     "name": "stdout",
     "output_type": "stream",
     "text": [
      "AdaBoostClassifier(n_estimators=81)\n",
      "0.7047291230170607\n"
     ]
    }
   ],
   "source": [
    "param_grid = {'n_estimators':range(1,101,5)}\n",
    "clf = AdaBoostClassifier()\n",
    "gs = GridSearchCV(clf,param_grid=param_grid,scoring='roc_auc')\n",
    "ada = gs.fit(X_train, y_train)\n",
    "pred=ada.predict_proba(X_test)[:,1]\n",
    "print(ada.best_estimator_)\n",
    "print(roc_auc_score(np.array(y_test),pred))"
   ]
  },
  {
   "cell_type": "code",
   "execution_count": 29,
   "metadata": {
    "colab": {
     "base_uri": "https://localhost:8080/",
     "height": 206
    },
    "id": "NeysupQMPxTp",
    "outputId": "7f59f7d2-2341-4d54-d28b-69473bc4a500"
   },
   "outputs": [
    {
     "data": {
      "text/html": [
       "<div>\n",
       "<style scoped>\n",
       "    .dataframe tbody tr th:only-of-type {\n",
       "        vertical-align: middle;\n",
       "    }\n",
       "\n",
       "    .dataframe tbody tr th {\n",
       "        vertical-align: top;\n",
       "    }\n",
       "\n",
       "    .dataframe thead th {\n",
       "        text-align: right;\n",
       "    }\n",
       "</style>\n",
       "<table border=\"1\" class=\"dataframe\">\n",
       "  <thead>\n",
       "    <tr style=\"text-align: right;\">\n",
       "      <th></th>\n",
       "      <th>variables</th>\n",
       "      <th>importance</th>\n",
       "    </tr>\n",
       "  </thead>\n",
       "  <tbody>\n",
       "    <tr>\n",
       "      <th>11</th>\n",
       "      <td>qBUILDINGb</td>\n",
       "      <td>0.072917</td>\n",
       "    </tr>\n",
       "    <tr>\n",
       "      <th>2</th>\n",
       "      <td>qINCOME</td>\n",
       "      <td>0.0625</td>\n",
       "    </tr>\n",
       "    <tr>\n",
       "      <th>24</th>\n",
       "      <td>qGENDER</td>\n",
       "      <td>0.052083</td>\n",
       "    </tr>\n",
       "    <tr>\n",
       "      <th>3</th>\n",
       "      <td>qTRIPPLANAPP</td>\n",
       "      <td>0.041667</td>\n",
       "    </tr>\n",
       "    <tr>\n",
       "      <th>20</th>\n",
       "      <td>qCITIBIKE</td>\n",
       "      <td>0.03125</td>\n",
       "    </tr>\n",
       "  </tbody>\n",
       "</table>\n",
       "</div>"
      ],
      "text/plain": [
       "       variables importance\n",
       "11    qBUILDINGb   0.072917\n",
       "2        qINCOME     0.0625\n",
       "24       qGENDER   0.052083\n",
       "3   qTRIPPLANAPP   0.041667\n",
       "20     qCITIBIKE    0.03125"
      ]
     },
     "execution_count": 29,
     "metadata": {},
     "output_type": "execute_result"
    }
   ],
   "source": [
    "clf = AdaBoostClassifier(n_estimators=96)\n",
    "clf.fit(X_train, y_train)\n",
    "\n",
    "Feature_importance=pd.DataFrame([list(X_train.columns),list(clf.feature_importances_)]).T\n",
    "Feature_importance.columns=[\"variables\",\"importance\"]\n",
    "\n",
    "# list the top 5 most important features in order\n",
    "Feature_importance.sort_values(by=\"importance\",ascending=False).iloc[:5,:]"
   ]
  },
  {
   "cell_type": "markdown",
   "metadata": {
    "id": "6fgEg4AJQGIe"
   },
   "source": [
    "## Gradient Boosting"
   ]
  },
  {
   "cell_type": "code",
   "execution_count": 30,
   "metadata": {
    "colab": {
     "base_uri": "https://localhost:8080/",
     "height": 487
    },
    "id": "USW9JDiWQIvU",
    "outputId": "8324e609-4b27-4dc0-bdbe-33d2710fdf31"
   },
   "outputs": [
    {
     "data": {
      "image/png": "[encoded data removed]",
      "text/plain": [
       "<Figure size 700x500 with 1 Axes>"
      ]
     },
     "metadata": {},
     "output_type": "display_data"
    }
   ],
   "source": [
    "AUC=[]\n",
    "for i in range(1,151,5):\n",
    "    clf = GradientBoostingClassifier(n_estimators=i, learning_rate=1.0, max_depth=1, random_state=0)\n",
    "    clf.fit(X_train, y_train)\n",
    "    pred=clf.predict_proba(X_test)[:,1]\n",
    "    AUC.append(roc_auc_score(np.array(y_test),pred))\n",
    "\n",
    "plt.figure(figsize=(7,5))\n",
    "plt.plot(range(1,151,5),AUC)\n",
    "plt.xlabel(\"Number of trees in forest\")\n",
    "plt.ylabel(\"OS_AUC\")\n",
    "plt.title(\"AUC vs num_estimators\")\n",
    "plt.xlim(1,151)\n",
    "plt.show()"
   ]
  },
  {
   "cell_type": "code",
   "execution_count": 31,
   "metadata": {
    "colab": {
     "base_uri": "https://localhost:8080/"
    },
    "id": "3SZQvRB2QVvZ",
    "outputId": "d350ecdf-c10d-4d7f-d7e1-0dbea0bd140c"
   },
   "outputs": [
    {
     "name": "stdout",
     "output_type": "stream",
     "text": [
      "GradientBoostingClassifier(learning_rate=1.0, max_depth=1, n_estimators=146,\n",
      "                           random_state=0)\n",
      "0.6545196049087099\n"
     ]
    }
   ],
   "source": [
    "param_grid = {'n_estimators':range(1,151,5)}\n",
    "clf = GradientBoostingClassifier(n_estimators=i, learning_rate=1.0, max_depth=1, random_state=0)\n",
    "gs = GridSearchCV(clf,param_grid=param_grid,scoring='roc_auc')\n",
    "gb = gs.fit(X_train, y_train)\n",
    "pred=gb.predict_proba(X_test)[:,1]\n",
    "print(gb.best_estimator_)\n",
    "print(roc_auc_score(np.array(y_test),pred))"
   ]
  },
  {
   "cell_type": "code",
   "execution_count": 32,
   "metadata": {
    "colab": {
     "base_uri": "https://localhost:8080/",
     "height": 206
    },
    "id": "QL0G8kR7Qjxd",
    "outputId": "a6ceeb6f-e25d-4fe8-9e21-0e249be24fbb"
   },
   "outputs": [
    {
     "data": {
      "text/html": [
       "<div>\n",
       "<style scoped>\n",
       "    .dataframe tbody tr th:only-of-type {\n",
       "        vertical-align: middle;\n",
       "    }\n",
       "\n",
       "    .dataframe tbody tr th {\n",
       "        vertical-align: top;\n",
       "    }\n",
       "\n",
       "    .dataframe thead th {\n",
       "        text-align: right;\n",
       "    }\n",
       "</style>\n",
       "<table border=\"1\" class=\"dataframe\">\n",
       "  <thead>\n",
       "    <tr style=\"text-align: right;\">\n",
       "      <th></th>\n",
       "      <th>variables</th>\n",
       "      <th>importance</th>\n",
       "    </tr>\n",
       "  </thead>\n",
       "  <tbody>\n",
       "    <tr>\n",
       "      <th>14</th>\n",
       "      <td>qWORKFH</td>\n",
       "      <td>0.395434</td>\n",
       "    </tr>\n",
       "    <tr>\n",
       "      <th>22</th>\n",
       "      <td>qCARACCESS</td>\n",
       "      <td>0.122401</td>\n",
       "    </tr>\n",
       "    <tr>\n",
       "      <th>24</th>\n",
       "      <td>qGENDER</td>\n",
       "      <td>0.065556</td>\n",
       "    </tr>\n",
       "    <tr>\n",
       "      <th>26</th>\n",
       "      <td>qRACECODE_Black, Non-Hispanic</td>\n",
       "      <td>0.062716</td>\n",
       "    </tr>\n",
       "    <tr>\n",
       "      <th>11</th>\n",
       "      <td>qBUILDINGb</td>\n",
       "      <td>0.041413</td>\n",
       "    </tr>\n",
       "  </tbody>\n",
       "</table>\n",
       "</div>"
      ],
      "text/plain": [
       "                        variables importance\n",
       "14                        qWORKFH   0.395434\n",
       "22                     qCARACCESS   0.122401\n",
       "24                        qGENDER   0.065556\n",
       "26  qRACECODE_Black, Non-Hispanic   0.062716\n",
       "11                     qBUILDINGb   0.041413"
      ]
     },
     "execution_count": 32,
     "metadata": {},
     "output_type": "execute_result"
    }
   ],
   "source": [
    "clf = GradientBoostingClassifier(n_estimators=106, learning_rate=1.0, max_depth=1, random_state=0)\n",
    "clf.fit(X_train, y_train)\n",
    "\n",
    "Feature_importance=pd.DataFrame([list(X_train.columns),list(clf.feature_importances_)]).T\n",
    "Feature_importance.columns=[\"variables\",\"importance\"]\n",
    "\n",
    "# list the top 5 most important features in order\n",
    "Feature_importance.sort_values(by=\"importance\",ascending=False).iloc[:5,:]"
   ]
  },
  {
   "cell_type": "markdown",
   "metadata": {
    "id": "WcWjTHd35IsR"
   },
   "source": [
    "## Naive Bayes"
   ]
  },
  {
   "cell_type": "code",
   "execution_count": 33,
   "metadata": {
    "id": "t5hLEhZWznYO"
   },
   "outputs": [],
   "source": [
    "X_train_fs, X_test_fs, fs = select_features(chi2, 6, X_train, y_train, X_test)#chi2/mutual_info_classif"
   ]
  },
  {
   "cell_type": "code",
   "execution_count": 34,
   "metadata": {
    "colab": {
     "base_uri": "https://localhost:8080/"
    },
    "id": "zPrkioPu6aO3",
    "outputId": "5e5219ce-0f39-45b1-9eb9-e67ec29d8bc8"
   },
   "outputs": [
    {
     "ename": "TypeError",
     "evalue": "__init__() got an unexpected keyword argument 'force_alpha'",
     "output_type": "error",
     "traceback": [
      "\u001b[0;31m---------------------------------------------------------------------------\u001b[0m",
      "\u001b[0;31mTypeError\u001b[0m                                 Traceback (most recent call last)",
      "\u001b[0;32m/var/folders/7c/bp48l0415fl7fzm4x_fv4cc40000gn/T/ipykernel_31619/464121434.py\u001b[0m in \u001b[0;36m<module>\u001b[0;34m\u001b[0m\n\u001b[1;32m      1\u001b[0m \u001b[0;32mfrom\u001b[0m \u001b[0msklearn\u001b[0m\u001b[0;34m.\u001b[0m\u001b[0mnaive_bayes\u001b[0m \u001b[0;32mimport\u001b[0m \u001b[0mCategoricalNB\u001b[0m\u001b[0;34m\u001b[0m\u001b[0;34m\u001b[0m\u001b[0m\n\u001b[0;32m----> 2\u001b[0;31m \u001b[0mclf\u001b[0m \u001b[0;34m=\u001b[0m \u001b[0mCategoricalNB\u001b[0m\u001b[0;34m(\u001b[0m\u001b[0mforce_alpha\u001b[0m\u001b[0;34m=\u001b[0m\u001b[0;32mTrue\u001b[0m\u001b[0;34m)\u001b[0m\u001b[0;34m\u001b[0m\u001b[0;34m\u001b[0m\u001b[0m\n\u001b[0m\u001b[1;32m      3\u001b[0m \u001b[0mclf\u001b[0m\u001b[0;34m.\u001b[0m\u001b[0mfit\u001b[0m\u001b[0;34m(\u001b[0m\u001b[0mX_train\u001b[0m\u001b[0;34m,\u001b[0m\u001b[0my_train\u001b[0m\u001b[0;34m)\u001b[0m\u001b[0;34m\u001b[0m\u001b[0;34m\u001b[0m\u001b[0m\n\u001b[1;32m      4\u001b[0m \u001b[0;34m\u001b[0m\u001b[0m\n\u001b[1;32m      5\u001b[0m \u001b[0my_pred_train\u001b[0m \u001b[0;34m=\u001b[0m \u001b[0mclf\u001b[0m\u001b[0;34m.\u001b[0m\u001b[0mpredict_proba\u001b[0m\u001b[0;34m(\u001b[0m\u001b[0mX_train\u001b[0m\u001b[0;34m)\u001b[0m\u001b[0;34m[\u001b[0m\u001b[0;34m:\u001b[0m\u001b[0;34m,\u001b[0m\u001b[0;36m1\u001b[0m\u001b[0;34m]\u001b[0m\u001b[0;34m\u001b[0m\u001b[0;34m\u001b[0m\u001b[0m\n",
      "\u001b[0;31mTypeError\u001b[0m: __init__() got an unexpected keyword argument 'force_alpha'"
     ]
    }
   ],
   "source": [
    "from sklearn.naive_bayes import CategoricalNB\n",
    "clf = CategoricalNB(force_alpha=True)\n",
    "clf.fit(X_train,y_train)\n",
    "\n",
    "y_pred_train = clf.predict_proba(X_train)[:,1]\n",
    "y_pred_test = clf.predict_proba(X_test)[:,1]\n",
    "\n",
    "# measure accuracy for the binary prediction task\n",
    "print('In sample prediction accuracy:',1.0*sum((y_pred_train>0.5)==y_train)/len(y_train))\n",
    "print('Out of sample prediction accuracy:',1.0*sum((y_pred_test>0.5)==y_test)/len(y_test))"
   ]
  },
  {
   "cell_type": "code",
   "execution_count": 35,
   "metadata": {
    "id": "tRr1TihVkypC"
   },
   "outputs": [],
   "source": [
    "from sklearn.metrics import classification_report\n",
    "\n",
    "# print(classification_report(y_test, clf.predict_proba(X_test)))"
   ]
  },
  {
   "cell_type": "markdown",
   "metadata": {
    "id": "jD4UmM316ZsE"
   },
   "source": [
    "## Bayes Nets"
   ]
  },
  {
   "cell_type": "code",
   "execution_count": 36,
   "metadata": {
    "id": "CPc43j3U7r1y"
   },
   "outputs": [],
   "source": [
    "### do we need feature selection before bayes nets\n",
    "# !pip install pgmpy\n",
    "from pgmpy.estimators import ExhaustiveSearch\n",
    "from pgmpy.estimators import HillClimbSearch\n",
    "from pgmpy.estimators import K2Score, BicScore, BDeuScore\n",
    "from pgmpy.models import BayesianNetwork\n",
    "from pgmpy.estimators import BayesianEstimator"
   ]
  },
  {
   "cell_type": "code",
   "execution_count": 37,
   "metadata": {
    "id": "ccb8VW3Hn4Kb"
   },
   "outputs": [],
   "source": [
    "X_train_fs, X_test_fs, fs = select_features(mutual_info_classif, 5, X_train, y_train, X_test)#chi2/mutual_info_classif\n",
    "# what are scores for the features\n",
    "cols = X_train.columns.values\n",
    "score_dict = {}\n",
    "for i in range(len(fs.scores_)):\n",
    "    score_dict[cols[i]] = fs.scores_[i]\n",
    "top_attr = sorted(score_dict.items(), key=lambda x: x[1],reverse=True)[:7]\n",
    "top_attr = [i[0] for i in top_attr]\n",
    "train,test=train_test_split(pd.concat([X_enc[top_attr],y_enc['Walk']],axis=1),random_state=999,test_size=0.2)"
   ]
  },
  {
   "cell_type": "code",
   "execution_count": 38,
   "metadata": {
    "colab": {
     "base_uri": "https://localhost:8080/",
     "height": 66,
     "referenced_widgets": [
      "0fcdad10266a4c77a63dcf4273daa4a7",
      "7e5f4ec72d3d4244a5e5ba4abb2c647e",
      "6ad8fb10c2974cd3a56e8ceb62b37293",
      "3c1369b3d8664575847d7ef08c5ec78e",
      "31edbaf971394cac8edb5233e552e424",
      "5156cbf068154ebb9ee26cafe33b04de",
      "12543732e7424554a55d83f296514ea2",
      "55317b5f00824bd790584f2ebd0b8572",
      "e96dfdc62531497cbc8eda2f6f229fdd",
      "ee1221f8046549f1a25c4944f031dbf7",
      "f5545b9fd1c94245a9499896886dbc65"
     ]
    },
    "id": "G3fhLS54z6t9",
    "outputId": "bdf499ed-6c9f-4cb7-fe54-9a78dba65d74"
   },
   "outputs": [
    {
     "data": {
      "application/vnd.jupyter.widget-view+json": {
       "model_id": "d6473a4b3af445788425de5117313374",
       "version_major": 2,
       "version_minor": 0
      },
      "text/plain": [
       "  0%|          | 0/1000000 [00:00<?, ?it/s]"
      ]
     },
     "metadata": {},
     "output_type": "display_data"
    },
    {
     "name": "stdout",
     "output_type": "stream",
     "text": [
      "[('gFREIGHT1b_qFREIGHT4_mA', 'gFREIGHT1b_qFREIGHT2_mA')]\n"
     ]
    }
   ],
   "source": [
    "hc = HillClimbSearch(train)\n",
    "best_model = BayesianNetwork(hc.estimate(scoring_method='BicScore').edges()) # convert DAG to BayesianModel\n",
    "print(best_model.edges())"
   ]
  },
  {
   "cell_type": "code",
   "execution_count": 39,
   "metadata": {
    "colab": {
     "base_uri": "https://localhost:8080/"
    },
    "id": "4_LEJzl781uf",
    "outputId": "684afcfa-f418-46de-ca32-d340731d5a0c"
   },
   "outputs": [
    {
     "name": "stdout",
     "output_type": "stream",
     "text": [
      "CPD of gFREIGHT1b_qFREIGHT4_mA:\n",
      "+------------------------------+-----------+\n",
      "| gFREIGHT1b_qFREIGHT4_mA(0.0) | 0.0322321 |\n",
      "+------------------------------+-----------+\n",
      "| gFREIGHT1b_qFREIGHT4_mA(1.0) | 0.0950846 |\n",
      "+------------------------------+-----------+\n",
      "| gFREIGHT1b_qFREIGHT4_mA(2.0) | 0.313457  |\n",
      "+------------------------------+-----------+\n",
      "| gFREIGHT1b_qFREIGHT4_mA(3.0) | 0.38195   |\n",
      "+------------------------------+-----------+\n",
      "| gFREIGHT1b_qFREIGHT4_mA(4.0) | 0.141015  |\n",
      "+------------------------------+-----------+\n",
      "| gFREIGHT1b_qFREIGHT4_mA(5.0) | 0.0362611 |\n",
      "+------------------------------+-----------+\n",
      "CPD of gFREIGHT1b_qFREIGHT2_mA:\n",
      "+------------------------------+-----+------------------------------+\n",
      "| gFREIGHT1b_qFREIGHT4_mA      | ... | gFREIGHT1b_qFREIGHT4_mA(5.0) |\n",
      "+------------------------------+-----+------------------------------+\n",
      "| gFREIGHT1b_qFREIGHT2_mA(0.0) | ... | 0.02                         |\n",
      "+------------------------------+-----+------------------------------+\n",
      "| gFREIGHT1b_qFREIGHT2_mA(1.0) | ... | 0.06                         |\n",
      "+------------------------------+-----+------------------------------+\n",
      "| gFREIGHT1b_qFREIGHT2_mA(2.0) | ... | 0.14                         |\n",
      "+------------------------------+-----+------------------------------+\n",
      "| gFREIGHT1b_qFREIGHT2_mA(3.0) | ... | 0.46                         |\n",
      "+------------------------------+-----+------------------------------+\n",
      "| gFREIGHT1b_qFREIGHT2_mA(4.0) | ... | 0.08                         |\n",
      "+------------------------------+-----+------------------------------+\n",
      "| gFREIGHT1b_qFREIGHT2_mA(5.0) | ... | 0.24                         |\n",
      "+------------------------------+-----+------------------------------+\n",
      "\n",
      "\n"
     ]
    }
   ],
   "source": [
    "best_model.fit(train, estimator=BayesianEstimator, prior_type='K2')\n",
    "for cpd in best_model.get_cpds():\n",
    "    print(\"CPD of {variable}:\".format(variable=cpd.variable))\n",
    "    print(cpd)\n",
    "for thenode in best_model.nodes():\n",
    "    print(best_model.local_independencies(thenode))"
   ]
  },
  {
   "cell_type": "code",
   "execution_count": 40,
   "metadata": {
    "colab": {
     "base_uri": "https://localhost:8080/",
     "height": 116,
     "referenced_widgets": [
      "873f32006e074650aa2e213e03eac3d6",
      "967b352127384046a6f83c5ff0175683",
      "cb83679ae1b04b658917f0a6e948e6e9",
      "e8f0e049bed94232ab04f3d491fcbd59",
      "02f73038f62a47169d5ff2ac57e24afb",
      "94bf21e349c949818a56d34494ebcf98",
      "b9f29c626c7f4fa6b1ff87f841a1140e",
      "40fbe7abb8a6494da9f5507e79b171e2",
      "57673fa6e9b14321825125addc91128c",
      "c440abb4b8be49849d30d9220fdcae7d",
      "b0b9cc5bfb4c45debd34ec569a825302",
      "429b6e01f3694319b3caf2ffc2a90aef",
      "8a377873d901434c91333648f923261b",
      "dce8c9be86b6430d9c1333d76c3bf81d",
      "00534bd45e5545f3b130055b9fcb5eaa",
      "30e9c23ad7264ac3a5509c13a2e2ece3",
      "2d9c9dd4e619418893f91c02f5170249",
      "aee2d58813bb4b7f98437311d80c894e",
      "c376c83e3819426db3e15f78e076a2ea",
      "90c8a56ce7d745c79fa545513cc8d17f",
      "79503d3470ea4f33bf6a1a5b0b334296",
      "81708f4a410b4b429f16db57300dda47"
     ]
    },
    "id": "z2s3JAespYSK",
    "outputId": "00ac92e5-42f4-4d56-df09-fa39441cdd0e"
   },
   "outputs": [
    {
     "ename": "ValueError",
     "evalue": "Data has variables which are not in the model",
     "output_type": "error",
     "traceback": [
      "\u001b[0;31m---------------------------------------------------------------------------\u001b[0m",
      "\u001b[0;31mValueError\u001b[0m                                Traceback (most recent call last)",
      "\u001b[0;32m/var/folders/7c/bp48l0415fl7fzm4x_fv4cc40000gn/T/ipykernel_31619/2723176588.py\u001b[0m in \u001b[0;36m<module>\u001b[0;34m\u001b[0m\n\u001b[1;32m      2\u001b[0m \u001b[0mcol\u001b[0m \u001b[0;34m=\u001b[0m \u001b[0;34m[\u001b[0m\u001b[0;34m'gFREIGHT1b_qFREIGHT1_mA'\u001b[0m\u001b[0;34m,\u001b[0m\u001b[0;34m'gFREIGHT1b_qFREIGHT4_mA'\u001b[0m\u001b[0;34m,\u001b[0m\u001b[0;34m'qWORKFH'\u001b[0m\u001b[0;34m,\u001b[0m\u001b[0;34m'qAUTOVEHICLESAFE'\u001b[0m\u001b[0;34m,\u001b[0m\u001b[0;34m'qAUTOVEHICLEFAM'\u001b[0m\u001b[0;34m]\u001b[0m\u001b[0;34m\u001b[0m\u001b[0;34m\u001b[0m\u001b[0m\n\u001b[1;32m      3\u001b[0m \u001b[0mtrain_x\u001b[0m \u001b[0;34m=\u001b[0m \u001b[0mtrain\u001b[0m\u001b[0;34m.\u001b[0m\u001b[0mloc\u001b[0m\u001b[0;34m[\u001b[0m\u001b[0;34m:\u001b[0m\u001b[0;34m,\u001b[0m\u001b[0mtrain\u001b[0m\u001b[0;34m.\u001b[0m\u001b[0mcolumns\u001b[0m\u001b[0;34m.\u001b[0m\u001b[0misin\u001b[0m\u001b[0;34m(\u001b[0m\u001b[0mcol\u001b[0m\u001b[0;34m)\u001b[0m\u001b[0;34m]\u001b[0m\u001b[0;34m\u001b[0m\u001b[0;34m\u001b[0m\u001b[0m\n\u001b[0;32m----> 4\u001b[0;31m \u001b[0mpredicted_train\u001b[0m \u001b[0;34m=\u001b[0m \u001b[0mbest_model\u001b[0m\u001b[0;34m.\u001b[0m\u001b[0mpredict\u001b[0m\u001b[0;34m(\u001b[0m\u001b[0mtrain_x\u001b[0m\u001b[0;34m)\u001b[0m\u001b[0;34m\u001b[0m\u001b[0;34m\u001b[0m\u001b[0m\n\u001b[0m\u001b[1;32m      5\u001b[0m \u001b[0mprint\u001b[0m\u001b[0;34m(\u001b[0m\u001b[0;34m\"In sample:\"\u001b[0m\u001b[0;34m,\u001b[0m\u001b[0;34m(\u001b[0m\u001b[0mtrain\u001b[0m\u001b[0;34m.\u001b[0m\u001b[0mloc\u001b[0m\u001b[0;34m[\u001b[0m\u001b[0;34m:\u001b[0m\u001b[0;34m,\u001b[0m\u001b[0;34m'Walk'\u001b[0m\u001b[0;34m]\u001b[0m\u001b[0;34m.\u001b[0m\u001b[0mreset_index\u001b[0m\u001b[0;34m(\u001b[0m\u001b[0mdrop\u001b[0m\u001b[0;34m=\u001b[0m\u001b[0;32mTrue\u001b[0m\u001b[0;34m)\u001b[0m\u001b[0;34m==\u001b[0m\u001b[0mpredicted_train\u001b[0m\u001b[0;34m[\u001b[0m\u001b[0;34m'Walk'\u001b[0m\u001b[0;34m]\u001b[0m\u001b[0;34m)\u001b[0m\u001b[0;34m.\u001b[0m\u001b[0mmean\u001b[0m\u001b[0;34m(\u001b[0m\u001b[0;34m)\u001b[0m\u001b[0;34m)\u001b[0m\u001b[0;34m\u001b[0m\u001b[0;34m\u001b[0m\u001b[0m\n\u001b[1;32m      6\u001b[0m \u001b[0;34m\u001b[0m\u001b[0m\n",
      "\u001b[0;32m~/opt/anaconda3/lib/python3.9/site-packages/pgmpy/models/BayesianNetwork.py\u001b[0m in \u001b[0;36mpredict\u001b[0;34m(self, data, stochastic, n_jobs)\u001b[0m\n\u001b[1;32m    698\u001b[0m \u001b[0;34m\u001b[0m\u001b[0m\n\u001b[1;32m    699\u001b[0m         \u001b[0;32melif\u001b[0m \u001b[0mset\u001b[0m\u001b[0;34m(\u001b[0m\u001b[0mdata\u001b[0m\u001b[0;34m.\u001b[0m\u001b[0mcolumns\u001b[0m\u001b[0;34m)\u001b[0m \u001b[0;34m-\u001b[0m \u001b[0mset\u001b[0m\u001b[0;34m(\u001b[0m\u001b[0mself\u001b[0m\u001b[0;34m.\u001b[0m\u001b[0mnodes\u001b[0m\u001b[0;34m(\u001b[0m\u001b[0;34m)\u001b[0m\u001b[0;34m)\u001b[0m\u001b[0;34m:\u001b[0m\u001b[0;34m\u001b[0m\u001b[0;34m\u001b[0m\u001b[0m\n\u001b[0;32m--> 700\u001b[0;31m             \u001b[0;32mraise\u001b[0m \u001b[0mValueError\u001b[0m\u001b[0;34m(\u001b[0m\u001b[0;34m\"Data has variables which are not in the model\"\u001b[0m\u001b[0;34m)\u001b[0m\u001b[0;34m\u001b[0m\u001b[0;34m\u001b[0m\u001b[0m\n\u001b[0m\u001b[1;32m    701\u001b[0m \u001b[0;34m\u001b[0m\u001b[0m\n\u001b[1;32m    702\u001b[0m         \u001b[0mmissing_variables\u001b[0m \u001b[0;34m=\u001b[0m \u001b[0mset\u001b[0m\u001b[0;34m(\u001b[0m\u001b[0mself\u001b[0m\u001b[0;34m.\u001b[0m\u001b[0mnodes\u001b[0m\u001b[0;34m(\u001b[0m\u001b[0;34m)\u001b[0m\u001b[0;34m)\u001b[0m \u001b[0;34m-\u001b[0m \u001b[0mset\u001b[0m\u001b[0;34m(\u001b[0m\u001b[0mdata\u001b[0m\u001b[0;34m.\u001b[0m\u001b[0mcolumns\u001b[0m\u001b[0;34m)\u001b[0m\u001b[0;34m\u001b[0m\u001b[0;34m\u001b[0m\u001b[0m\n",
      "\u001b[0;31mValueError\u001b[0m: Data has variables which are not in the model"
     ]
    }
   ],
   "source": [
    "best_model.fit(train, estimator=BayesianEstimator, prior_type='K2')\n",
    "col = ['gFREIGHT1b_qFREIGHT1_mA','gFREIGHT1b_qFREIGHT4_mA','qWORKFH','qAUTOVEHICLESAFE','qAUTOVEHICLEFAM']\n",
    "train_x = train.loc[:,train.columns.isin(col)]\n",
    "predicted_train = best_model.predict(train_x)\n",
    "print(\"In sample:\",(train.loc[:,'Walk'].reset_index(drop=True)==predicted_train['Walk']).mean())\n",
    "\n",
    "test_x = test.loc[:,test.columns.isin(col)]\n",
    "predicted_test = best_model.predict(test_x)\n",
    "print(\"Out of sample:\",(test.loc[:,'Walk'].reset_index(drop=True)==predicted_test['Walk']).mean())"
   ]
  },
  {
   "cell_type": "code",
   "execution_count": null,
   "metadata": {
    "id": "k8_TkkgCDN_X"
   },
   "outputs": [],
   "source": []
  },
  {
   "cell_type": "markdown",
   "metadata": {
    "id": "O7KFqKMhYX05"
   },
   "source": [
    "## Multi-Label Classification"
   ]
  },
  {
   "cell_type": "code",
   "execution_count": 41,
   "metadata": {
    "id": "RgOiXG9qLxGm"
   },
   "outputs": [],
   "source": [
    "from sklearn.multioutput import MultiOutputClassifier\n",
    "from sklearn.linear_model import LogisticRegression\n",
    "from sklearn.svm import SVC"
   ]
  },
  {
   "cell_type": "code",
   "execution_count": 42,
   "metadata": {
    "colab": {
     "base_uri": "https://localhost:8080/"
    },
    "id": "qeslxh8RyPFo",
    "outputId": "5e199ddd-48c7-4583-b555-9111a216391f"
   },
   "outputs": [
    {
     "name": "stdout",
     "output_type": "stream",
     "text": [
      "Train (1235, 67) (1235, 3)\n",
      "Test (309, 67) (309, 3)\n"
     ]
    }
   ],
   "source": [
    "# split into train and test sets\n",
    "X_train, X_test, y_train, y_test = train_test_split(X_enc, y_multi_enc, test_size=0.2, random_state=1)\n",
    "# summarize\n",
    "print('Train', X_train.shape, y_train.shape)\n",
    "print('Test', X_test.shape, y_test.shape)"
   ]
  },
  {
   "cell_type": "code",
   "execution_count": 43,
   "metadata": {
    "colab": {
     "base_uri": "https://localhost:8080/"
    },
    "id": "KmM9lw-rybGx",
    "outputId": "f60cddc9-eafa-49a9-9bb0-f219151b7477"
   },
   "outputs": [
    {
     "data": {
      "text/plain": [
       "0.47896440129449835"
      ]
     },
     "execution_count": 43,
     "metadata": {},
     "output_type": "execute_result"
    }
   ],
   "source": [
    "clf = MultiOutputClassifier(LogisticRegression()).fit(X_train, y_train)\n",
    "clf.score(X_test,y_test)"
   ]
  },
  {
   "cell_type": "code",
   "execution_count": 44,
   "metadata": {
    "colab": {
     "base_uri": "https://localhost:8080/"
    },
    "id": "mdbsnH4YPoI7",
    "outputId": "20d17f15-c0a0-4c3e-e5ae-c65c6b8b5e71"
   },
   "outputs": [
    {
     "data": {
      "text/plain": [
       "0.4854368932038835"
      ]
     },
     "execution_count": 44,
     "metadata": {},
     "output_type": "execute_result"
    }
   ],
   "source": [
    "svc = SVC(gamma=\"scale\")\n",
    "model = MultiOutputClassifier(estimator=svc)\n",
    "model.fit(X_train, y_train)\n",
    "model.score(X_test,y_test)"
   ]
  },
  {
   "cell_type": "code",
   "execution_count": 49,
   "metadata": {
    "colab": {
     "base_uri": "https://localhost:8080/",
     "height": 398
    },
    "id": "hM96IgYTzwkY",
    "outputId": "a9f5a5f4-0933-4274-e256-a2d9456c94c0"
   },
   "outputs": [
    {
     "name": "stdout",
     "output_type": "stream",
     "text": [
      "**Processing Walk ...**\n"
     ]
    },
    {
     "ename": "NameError",
     "evalue": "name 'prepare_targets' is not defined",
     "output_type": "error",
     "traceback": [
      "\u001b[0;31m---------------------------------------------------------------------------\u001b[0m",
      "\u001b[0;31mNameError\u001b[0m                                 Traceback (most recent call last)",
      "\u001b[0;32m/var/folders/7c/bp48l0415fl7fzm4x_fv4cc40000gn/T/ipykernel_31619/167505120.py\u001b[0m in \u001b[0;36m<module>\u001b[0;34m\u001b[0m\n\u001b[1;32m     12\u001b[0m \u001b[0;34m\u001b[0m\u001b[0m\n\u001b[1;32m     13\u001b[0m     \u001b[0;31m# Training logistic regression model on train data\u001b[0m\u001b[0;34m\u001b[0m\u001b[0;34m\u001b[0m\u001b[0m\n\u001b[0;32m---> 14\u001b[0;31m     \u001b[0my_train_enc\u001b[0m\u001b[0;34m,\u001b[0m \u001b[0my_test_enc\u001b[0m \u001b[0;34m=\u001b[0m \u001b[0mprepare_targets\u001b[0m\u001b[0;34m(\u001b[0m\u001b[0my_train\u001b[0m\u001b[0;34m[\u001b[0m\u001b[0mcategory\u001b[0m\u001b[0;34m]\u001b[0m\u001b[0;34m,\u001b[0m \u001b[0my_test\u001b[0m\u001b[0;34m[\u001b[0m\u001b[0mcategory\u001b[0m\u001b[0;34m]\u001b[0m\u001b[0;34m)\u001b[0m\u001b[0;34m\u001b[0m\u001b[0;34m\u001b[0m\u001b[0m\n\u001b[0m\u001b[1;32m     15\u001b[0m     \u001b[0mLogReg_pipeline\u001b[0m\u001b[0;34m.\u001b[0m\u001b[0mfit\u001b[0m\u001b[0;34m(\u001b[0m\u001b[0mX_train_enc\u001b[0m\u001b[0;34m,\u001b[0m \u001b[0my_train_enc\u001b[0m\u001b[0;34m)\u001b[0m\u001b[0;34m\u001b[0m\u001b[0;34m\u001b[0m\u001b[0m\n\u001b[1;32m     16\u001b[0m \u001b[0;34m\u001b[0m\u001b[0m\n",
      "\u001b[0;31mNameError\u001b[0m: name 'prepare_targets' is not defined"
     ]
    }
   ],
   "source": [
    "from sklearn.linear_model import LogisticRegression\n",
    "from sklearn.pipeline import Pipeline\n",
    "from sklearn.metrics import accuracy_score\n",
    "from sklearn.multiclass import OneVsRestClassifier\n",
    "# Using pipeline for applying logistic regression and one vs rest classifier\n",
    "LogReg_pipeline = Pipeline([\n",
    "                ('clf', OneVsRestClassifier(LogisticRegression(solver='lbfgs'), n_jobs=-1)),\n",
    "            ])\n",
    "for category in alter_col:\n",
    "\n",
    "    print('**Processing {} ...**'.format(category))\n",
    "    \n",
    "    # Training logistic regression model on train data\n",
    "    y_train_enc, y_test_enc = prepare_targets(y_train[category], y_test[category])\n",
    "    LogReg_pipeline.fit(X_train_enc, y_train_enc)\n",
    "    \n",
    "    # calculating test accuracy\n",
    "    prediction = LogReg_pipeline.predict(y_test_enc)\n",
    "    print('Test accuracy is {}'.format(accuracy_score(y_test_enc, prediction)))\n",
    "    print(\"\\n\")"
   ]
  },
  {
   "cell_type": "code",
   "execution_count": 50,
   "metadata": {
    "colab": {
     "base_uri": "https://localhost:8080/",
     "height": 607
    },
    "id": "RrgXqBbh9WF1",
    "outputId": "e0e449ee-7dfa-471d-ca8c-b9ec6aa97363"
   },
   "outputs": [
    {
     "ename": "NameError",
     "evalue": "name 'X_train_enc' is not defined",
     "output_type": "error",
     "traceback": [
      "\u001b[0;31m---------------------------------------------------------------------------\u001b[0m",
      "\u001b[0;31mNameError\u001b[0m                                 Traceback (most recent call last)",
      "\u001b[0;32m/var/folders/7c/bp48l0415fl7fzm4x_fv4cc40000gn/T/ipykernel_31619/1994694291.py\u001b[0m in \u001b[0;36m<module>\u001b[0;34m\u001b[0m\n\u001b[1;32m      9\u001b[0m \u001b[0;34m\u001b[0m\u001b[0m\n\u001b[1;32m     10\u001b[0m \u001b[0mclassifier\u001b[0m \u001b[0;34m=\u001b[0m \u001b[0mGridSearchCV\u001b[0m\u001b[0;34m(\u001b[0m\u001b[0mBRkNNaClassifier\u001b[0m\u001b[0;34m(\u001b[0m\u001b[0;34m)\u001b[0m\u001b[0;34m,\u001b[0m \u001b[0mparameters\u001b[0m\u001b[0;34m,\u001b[0m \u001b[0mscoring\u001b[0m\u001b[0;34m=\u001b[0m\u001b[0mscore\u001b[0m\u001b[0;34m)\u001b[0m\u001b[0;34m\u001b[0m\u001b[0;34m\u001b[0m\u001b[0m\n\u001b[0;32m---> 11\u001b[0;31m \u001b[0mclassifier\u001b[0m\u001b[0;34m.\u001b[0m\u001b[0mfit\u001b[0m\u001b[0;34m(\u001b[0m\u001b[0mX_train_enc\u001b[0m\u001b[0;34m,\u001b[0m \u001b[0my_train_enc\u001b[0m\u001b[0;34m)\u001b[0m\u001b[0;34m\u001b[0m\u001b[0;34m\u001b[0m\u001b[0m\n\u001b[0m\u001b[1;32m     12\u001b[0m \u001b[0;34m\u001b[0m\u001b[0m\n\u001b[1;32m     13\u001b[0m \u001b[0mprint\u001b[0m\u001b[0;34m(\u001b[0m\u001b[0;34m'training time taken: '\u001b[0m\u001b[0;34m,\u001b[0m\u001b[0mround\u001b[0m\u001b[0;34m(\u001b[0m\u001b[0mtime\u001b[0m\u001b[0;34m.\u001b[0m\u001b[0mtime\u001b[0m\u001b[0;34m(\u001b[0m\u001b[0;34m)\u001b[0m\u001b[0;34m-\u001b[0m\u001b[0mstart\u001b[0m\u001b[0;34m,\u001b[0m\u001b[0;36m0\u001b[0m\u001b[0;34m)\u001b[0m\u001b[0;34m,\u001b[0m\u001b[0;34m'seconds'\u001b[0m\u001b[0;34m)\u001b[0m\u001b[0;34m\u001b[0m\u001b[0;34m\u001b[0m\u001b[0m\n",
      "\u001b[0;31mNameError\u001b[0m: name 'X_train_enc' is not defined"
     ]
    }
   ],
   "source": [
    "from sklearn.model_selection import GridSearchCV\n",
    "import time\n",
    "from skmultilearn.adapt import BRkNNaClassifier\n",
    "\n",
    "parameters = {'k': range(3,5)}\n",
    "score = 'f1_micro'\n",
    "\n",
    "start=time.time()\n",
    "\n",
    "classifier = GridSearchCV(BRkNNaClassifier(), parameters, scoring=score)\n",
    "classifier.fit(X_train_enc, y_train_enc)\n",
    "\n",
    "print('training time taken: ',round(time.time()-start,0),'seconds')\n",
    "print('best parameters :', classifier.best_params_,\n",
    "      'best score: ',classifier.best_score_)"
   ]
  },
  {
   "cell_type": "code",
   "execution_count": 51,
   "metadata": {
    "colab": {
     "base_uri": "https://localhost:8080/"
    },
    "id": "FztXSnViYlIS",
    "outputId": "b6ef36d1-728e-49bf-8484-4f43af1c1903"
   },
   "outputs": [
    {
     "ename": "NameError",
     "evalue": "name 'X_train_enc' is not defined",
     "output_type": "error",
     "traceback": [
      "\u001b[0;31m---------------------------------------------------------------------------\u001b[0m",
      "\u001b[0;31mNameError\u001b[0m                                 Traceback (most recent call last)",
      "\u001b[0;32m/var/folders/7c/bp48l0415fl7fzm4x_fv4cc40000gn/T/ipykernel_31619/3157608955.py\u001b[0m in \u001b[0;36m<module>\u001b[0;34m\u001b[0m\n\u001b[1;32m      7\u001b[0m \u001b[0mclassifier\u001b[0m \u001b[0;34m=\u001b[0m \u001b[0mBinaryRelevance\u001b[0m\u001b[0;34m(\u001b[0m\u001b[0mGaussianNB\u001b[0m\u001b[0;34m(\u001b[0m\u001b[0;34m)\u001b[0m\u001b[0;34m)\u001b[0m\u001b[0;34m\u001b[0m\u001b[0;34m\u001b[0m\u001b[0m\n\u001b[1;32m      8\u001b[0m \u001b[0;31m# train\u001b[0m\u001b[0;34m\u001b[0m\u001b[0;34m\u001b[0m\u001b[0m\n\u001b[0;32m----> 9\u001b[0;31m \u001b[0mclassifier\u001b[0m\u001b[0;34m.\u001b[0m\u001b[0mfit\u001b[0m\u001b[0;34m(\u001b[0m\u001b[0mX_train_enc\u001b[0m\u001b[0;34m,\u001b[0m \u001b[0my_train_enc\u001b[0m\u001b[0;34m)\u001b[0m\u001b[0;34m\u001b[0m\u001b[0;34m\u001b[0m\u001b[0m\n\u001b[0m\u001b[1;32m     10\u001b[0m \u001b[0;31m# predict\u001b[0m\u001b[0;34m\u001b[0m\u001b[0;34m\u001b[0m\u001b[0m\n\u001b[1;32m     11\u001b[0m \u001b[0mpredictions\u001b[0m \u001b[0;34m=\u001b[0m \u001b[0mclassifier\u001b[0m\u001b[0;34m.\u001b[0m\u001b[0mpredict\u001b[0m\u001b[0;34m(\u001b[0m\u001b[0mX_test_enc\u001b[0m\u001b[0;34m)\u001b[0m\u001b[0;34m\u001b[0m\u001b[0;34m\u001b[0m\u001b[0m\n",
      "\u001b[0;31mNameError\u001b[0m: name 'X_train_enc' is not defined"
     ]
    }
   ],
   "source": [
    "# using binary relevance\n",
    "# !pip install scikit-multilearn\n",
    "from skmultilearn.problem_transform import BinaryRelevance\n",
    "from sklearn.naive_bayes import GaussianNB\n",
    "# initialize binary relevance multi-label classifier\n",
    "# with a gaussian naive bayes base classifier\n",
    "classifier = BinaryRelevance(GaussianNB())\n",
    "# train\n",
    "classifier.fit(X_train_enc, y_train_enc)\n",
    "# predict\n",
    "predictions = classifier.predict(X_test_enc)\n",
    "# accuracy\n",
    "print(\"Accuracy = \",accuracy_score(y_test_enc,predictions.toarray()))"
   ]
  },
  {
   "cell_type": "code",
   "execution_count": 52,
   "metadata": {
    "colab": {
     "base_uri": "https://localhost:8080/"
    },
    "id": "JrNXKEBkaWkE",
    "outputId": "17cb3e73-4da2-4088-af56-84bf56447c13"
   },
   "outputs": [
    {
     "ename": "NameError",
     "evalue": "name 'X_train_enc' is not defined",
     "output_type": "error",
     "traceback": [
      "\u001b[0;31m---------------------------------------------------------------------------\u001b[0m",
      "\u001b[0;31mNameError\u001b[0m                                 Traceback (most recent call last)",
      "\u001b[0;32m/var/folders/7c/bp48l0415fl7fzm4x_fv4cc40000gn/T/ipykernel_31619/1044227542.py\u001b[0m in \u001b[0;36m<module>\u001b[0;34m\u001b[0m\n\u001b[1;32m      5\u001b[0m \u001b[0mclassifier\u001b[0m \u001b[0;34m=\u001b[0m \u001b[0mClassifierChain\u001b[0m\u001b[0;34m(\u001b[0m\u001b[0mLogisticRegression\u001b[0m\u001b[0;34m(\u001b[0m\u001b[0;34m)\u001b[0m\u001b[0;34m)\u001b[0m\u001b[0;34m\u001b[0m\u001b[0;34m\u001b[0m\u001b[0m\n\u001b[1;32m      6\u001b[0m \u001b[0;31m# Training logistic regression model on train data\u001b[0m\u001b[0;34m\u001b[0m\u001b[0;34m\u001b[0m\u001b[0m\n\u001b[0;32m----> 7\u001b[0;31m \u001b[0mclassifier\u001b[0m\u001b[0;34m.\u001b[0m\u001b[0mfit\u001b[0m\u001b[0;34m(\u001b[0m\u001b[0mX_train_enc\u001b[0m\u001b[0;34m,\u001b[0m \u001b[0my_train_enc\u001b[0m\u001b[0;34m)\u001b[0m\u001b[0;34m\u001b[0m\u001b[0;34m\u001b[0m\u001b[0m\n\u001b[0m\u001b[1;32m      8\u001b[0m \u001b[0;31m# predict\u001b[0m\u001b[0;34m\u001b[0m\u001b[0;34m\u001b[0m\u001b[0m\n\u001b[1;32m      9\u001b[0m \u001b[0mpredictions\u001b[0m \u001b[0;34m=\u001b[0m \u001b[0mclassifier\u001b[0m\u001b[0;34m.\u001b[0m\u001b[0mpredict\u001b[0m\u001b[0;34m(\u001b[0m\u001b[0mX_test_enc\u001b[0m\u001b[0;34m)\u001b[0m\u001b[0;34m\u001b[0m\u001b[0;34m\u001b[0m\u001b[0m\n",
      "\u001b[0;31mNameError\u001b[0m: name 'X_train_enc' is not defined"
     ]
    }
   ],
   "source": [
    "# using classifier chains\n",
    "from skmultilearn.problem_transform import ClassifierChain\n",
    "from sklearn.linear_model import LogisticRegression\n",
    "# initialize classifier chains multi-label classifier\n",
    "classifier = ClassifierChain(LogisticRegression())\n",
    "# Training logistic regression model on train data\n",
    "classifier.fit(X_train_enc, y_train_enc)\n",
    "# predict\n",
    "predictions = classifier.predict(X_test_enc)\n",
    "# accuracy\n",
    "print(\"Accuracy = \",accuracy_score(y_test_enc,predictions.toarray()))"
   ]
  },
  {
   "cell_type": "code",
   "execution_count": null,
   "metadata": {
    "id": "bUsvwyddzJWU"
   },
   "outputs": [],
   "source": []
  }
 ],
 "metadata": {
  "colab": {
   "collapsed_sections": [
    "Ck1_4IBkPCNc"
   ],
   "provenance": []
  },
  "kernelspec": {
   "display_name": "Python 3 (ipykernel)",
   "language": "python",
   "name": "python3"
  },
  "language_info": {
   "codemirror_mode": {
    "name": "ipython",
    "version": 3
   },
   "file_extension": ".py",
   "mimetype": "text/x-python",
   "name": "python",
   "nbconvert_exporter": "python",
   "pygments_lexer": "ipython3",
   "version": "3.9.13"
  },
  "widgets": {
   "application/vnd.jupyter.widget-state+json": {
    "00534bd45e5545f3b130055b9fcb5eaa": {
     "model_module": "@jupyter-widgets/controls",
     "model_module_version": "1.5.0",
     "model_name": "HTMLModel",
     "state": {
      "_dom_classes": [],
      "_model_module": "@jupyter-widgets/controls",
      "_model_module_version": "1.5.0",
      "_model_name": "HTMLModel",
      "_view_count": null,
      "_view_module": "@jupyter-widgets/controls",
      "_view_module_version": "1.5.0",
      "_view_name": "HTMLView",
      "description": "",
      "description_tooltip": null,
      "layout": "IPY_MODEL_79503d3470ea4f33bf6a1a5b0b334296",
      "placeholder": "​",
      "style": "IPY_MODEL_81708f4a410b4b429f16db57300dda47",
      "value": " 202/202 [00:01&lt;00:00, 181.34it/s]"
     }
    },
    "02f73038f62a47169d5ff2ac57e24afb": {
     "model_module": "@jupyter-widgets/base",
     "model_module_version": "1.2.0",
     "model_name": "LayoutModel",
     "state": {
      "_model_module": "@jupyter-widgets/base",
      "_model_module_version": "1.2.0",
      "_model_name": "LayoutModel",
      "_view_count": null,
      "_view_module": "@jupyter-widgets/base",
      "_view_module_version": "1.2.0",
      "_view_name": "LayoutView",
      "align_content": null,
      "align_items": null,
      "align_self": null,
      "border": null,
      "bottom": null,
      "display": null,
      "flex": null,
      "flex_flow": null,
      "grid_area": null,
      "grid_auto_columns": null,
      "grid_auto_flow": null,
      "grid_auto_rows": null,
      "grid_column": null,
      "grid_gap": null,
      "grid_row": null,
      "grid_template_areas": null,
      "grid_template_columns": null,
      "grid_template_rows": null,
      "height": null,
      "justify_content": null,
      "justify_items": null,
      "left": null,
      "margin": null,
      "max_height": null,
      "max_width": null,
      "min_height": null,
      "min_width": null,
      "object_fit": null,
      "object_position": null,
      "order": null,
      "overflow": null,
      "overflow_x": null,
      "overflow_y": null,
      "padding": null,
      "right": null,
      "top": null,
      "visibility": null,
      "width": null
     }
    },
    "0fcdad10266a4c77a63dcf4273daa4a7": {
     "model_module": "@jupyter-widgets/controls",
     "model_module_version": "1.5.0",
     "model_name": "HBoxModel",
     "state": {
      "_dom_classes": [],
      "_model_module": "@jupyter-widgets/controls",
      "_model_module_version": "1.5.0",
      "_model_name": "HBoxModel",
      "_view_count": null,
      "_view_module": "@jupyter-widgets/controls",
      "_view_module_version": "1.5.0",
      "_view_name": "HBoxView",
      "box_style": "",
      "children": [
       "IPY_MODEL_7e5f4ec72d3d4244a5e5ba4abb2c647e",
       "IPY_MODEL_6ad8fb10c2974cd3a56e8ceb62b37293",
       "IPY_MODEL_3c1369b3d8664575847d7ef08c5ec78e"
      ],
      "layout": "IPY_MODEL_31edbaf971394cac8edb5233e552e424"
     }
    },
    "12543732e7424554a55d83f296514ea2": {
     "model_module": "@jupyter-widgets/controls",
     "model_module_version": "1.5.0",
     "model_name": "DescriptionStyleModel",
     "state": {
      "_model_module": "@jupyter-widgets/controls",
      "_model_module_version": "1.5.0",
      "_model_name": "DescriptionStyleModel",
      "_view_count": null,
      "_view_module": "@jupyter-widgets/base",
      "_view_module_version": "1.2.0",
      "_view_name": "StyleView",
      "description_width": ""
     }
    },
    "2d9c9dd4e619418893f91c02f5170249": {
     "model_module": "@jupyter-widgets/base",
     "model_module_version": "1.2.0",
     "model_name": "LayoutModel",
     "state": {
      "_model_module": "@jupyter-widgets/base",
      "_model_module_version": "1.2.0",
      "_model_name": "LayoutModel",
      "_view_count": null,
      "_view_module": "@jupyter-widgets/base",
      "_view_module_version": "1.2.0",
      "_view_name": "LayoutView",
      "align_content": null,
      "align_items": null,
      "align_self": null,
      "border": null,
      "bottom": null,
      "display": null,
      "flex": null,
      "flex_flow": null,
      "grid_area": null,
      "grid_auto_columns": null,
      "grid_auto_flow": null,
      "grid_auto_rows": null,
      "grid_column": null,
      "grid_gap": null,
      "grid_row": null,
      "grid_template_areas": null,
      "grid_template_columns": null,
      "grid_template_rows": null,
      "height": null,
      "justify_content": null,
      "justify_items": null,
      "left": null,
      "margin": null,
      "max_height": null,
      "max_width": null,
      "min_height": null,
      "min_width": null,
      "object_fit": null,
      "object_position": null,
      "order": null,
      "overflow": null,
      "overflow_x": null,
      "overflow_y": null,
      "padding": null,
      "right": null,
      "top": null,
      "visibility": null,
      "width": null
     }
    },
    "30e9c23ad7264ac3a5509c13a2e2ece3": {
     "model_module": "@jupyter-widgets/base",
     "model_module_version": "1.2.0",
     "model_name": "LayoutModel",
     "state": {
      "_model_module": "@jupyter-widgets/base",
      "_model_module_version": "1.2.0",
      "_model_name": "LayoutModel",
      "_view_count": null,
      "_view_module": "@jupyter-widgets/base",
      "_view_module_version": "1.2.0",
      "_view_name": "LayoutView",
      "align_content": null,
      "align_items": null,
      "align_self": null,
      "border": null,
      "bottom": null,
      "display": null,
      "flex": null,
      "flex_flow": null,
      "grid_area": null,
      "grid_auto_columns": null,
      "grid_auto_flow": null,
      "grid_auto_rows": null,
      "grid_column": null,
      "grid_gap": null,
      "grid_row": null,
      "grid_template_areas": null,
      "grid_template_columns": null,
      "grid_template_rows": null,
      "height": null,
      "justify_content": null,
      "justify_items": null,
      "left": null,
      "margin": null,
      "max_height": null,
      "max_width": null,
      "min_height": null,
      "min_width": null,
      "object_fit": null,
      "object_position": null,
      "order": null,
      "overflow": null,
      "overflow_x": null,
      "overflow_y": null,
      "padding": null,
      "right": null,
      "top": null,
      "visibility": null,
      "width": null
     }
    },
    "31edbaf971394cac8edb5233e552e424": {
     "model_module": "@jupyter-widgets/base",
     "model_module_version": "1.2.0",
     "model_name": "LayoutModel",
     "state": {
      "_model_module": "@jupyter-widgets/base",
      "_model_module_version": "1.2.0",
      "_model_name": "LayoutModel",
      "_view_count": null,
      "_view_module": "@jupyter-widgets/base",
      "_view_module_version": "1.2.0",
      "_view_name": "LayoutView",
      "align_content": null,
      "align_items": null,
      "align_self": null,
      "border": null,
      "bottom": null,
      "display": null,
      "flex": null,
      "flex_flow": null,
      "grid_area": null,
      "grid_auto_columns": null,
      "grid_auto_flow": null,
      "grid_auto_rows": null,
      "grid_column": null,
      "grid_gap": null,
      "grid_row": null,
      "grid_template_areas": null,
      "grid_template_columns": null,
      "grid_template_rows": null,
      "height": null,
      "justify_content": null,
      "justify_items": null,
      "left": null,
      "margin": null,
      "max_height": null,
      "max_width": null,
      "min_height": null,
      "min_width": null,
      "object_fit": null,
      "object_position": null,
      "order": null,
      "overflow": null,
      "overflow_x": null,
      "overflow_y": null,
      "padding": null,
      "right": null,
      "top": null,
      "visibility": null,
      "width": null
     }
    },
    "3c1369b3d8664575847d7ef08c5ec78e": {
     "model_module": "@jupyter-widgets/controls",
     "model_module_version": "1.5.0",
     "model_name": "HTMLModel",
     "state": {
      "_dom_classes": [],
      "_model_module": "@jupyter-widgets/controls",
      "_model_module_version": "1.5.0",
      "_model_name": "HTMLModel",
      "_view_count": null,
      "_view_module": "@jupyter-widgets/controls",
      "_view_module_version": "1.5.0",
      "_view_name": "HTMLView",
      "description": "",
      "description_tooltip": null,
      "layout": "IPY_MODEL_ee1221f8046549f1a25c4944f031dbf7",
      "placeholder": "​",
      "style": "IPY_MODEL_f5545b9fd1c94245a9499896886dbc65",
      "value": " 5/1000000 [00:00&lt;18:46:54, 14.79it/s]"
     }
    },
    "40fbe7abb8a6494da9f5507e79b171e2": {
     "model_module": "@jupyter-widgets/base",
     "model_module_version": "1.2.0",
     "model_name": "LayoutModel",
     "state": {
      "_model_module": "@jupyter-widgets/base",
      "_model_module_version": "1.2.0",
      "_model_name": "LayoutModel",
      "_view_count": null,
      "_view_module": "@jupyter-widgets/base",
      "_view_module_version": "1.2.0",
      "_view_name": "LayoutView",
      "align_content": null,
      "align_items": null,
      "align_self": null,
      "border": null,
      "bottom": null,
      "display": null,
      "flex": null,
      "flex_flow": null,
      "grid_area": null,
      "grid_auto_columns": null,
      "grid_auto_flow": null,
      "grid_auto_rows": null,
      "grid_column": null,
      "grid_gap": null,
      "grid_row": null,
      "grid_template_areas": null,
      "grid_template_columns": null,
      "grid_template_rows": null,
      "height": null,
      "justify_content": null,
      "justify_items": null,
      "left": null,
      "margin": null,
      "max_height": null,
      "max_width": null,
      "min_height": null,
      "min_width": null,
      "object_fit": null,
      "object_position": null,
      "order": null,
      "overflow": null,
      "overflow_x": null,
      "overflow_y": null,
      "padding": null,
      "right": null,
      "top": null,
      "visibility": null,
      "width": null
     }
    },
    "429b6e01f3694319b3caf2ffc2a90aef": {
     "model_module": "@jupyter-widgets/controls",
     "model_module_version": "1.5.0",
     "model_name": "HBoxModel",
     "state": {
      "_dom_classes": [],
      "_model_module": "@jupyter-widgets/controls",
      "_model_module_version": "1.5.0",
      "_model_name": "HBoxModel",
      "_view_count": null,
      "_view_module": "@jupyter-widgets/controls",
      "_view_module_version": "1.5.0",
      "_view_name": "HBoxView",
      "box_style": "",
      "children": [
       "IPY_MODEL_8a377873d901434c91333648f923261b",
       "IPY_MODEL_dce8c9be86b6430d9c1333d76c3bf81d",
       "IPY_MODEL_00534bd45e5545f3b130055b9fcb5eaa"
      ],
      "layout": "IPY_MODEL_30e9c23ad7264ac3a5509c13a2e2ece3"
     }
    },
    "5156cbf068154ebb9ee26cafe33b04de": {
     "model_module": "@jupyter-widgets/base",
     "model_module_version": "1.2.0",
     "model_name": "LayoutModel",
     "state": {
      "_model_module": "@jupyter-widgets/base",
      "_model_module_version": "1.2.0",
      "_model_name": "LayoutModel",
      "_view_count": null,
      "_view_module": "@jupyter-widgets/base",
      "_view_module_version": "1.2.0",
      "_view_name": "LayoutView",
      "align_content": null,
      "align_items": null,
      "align_self": null,
      "border": null,
      "bottom": null,
      "display": null,
      "flex": null,
      "flex_flow": null,
      "grid_area": null,
      "grid_auto_columns": null,
      "grid_auto_flow": null,
      "grid_auto_rows": null,
      "grid_column": null,
      "grid_gap": null,
      "grid_row": null,
      "grid_template_areas": null,
      "grid_template_columns": null,
      "grid_template_rows": null,
      "height": null,
      "justify_content": null,
      "justify_items": null,
      "left": null,
      "margin": null,
      "max_height": null,
      "max_width": null,
      "min_height": null,
      "min_width": null,
      "object_fit": null,
      "object_position": null,
      "order": null,
      "overflow": null,
      "overflow_x": null,
      "overflow_y": null,
      "padding": null,
      "right": null,
      "top": null,
      "visibility": null,
      "width": null
     }
    },
    "55317b5f00824bd790584f2ebd0b8572": {
     "model_module": "@jupyter-widgets/base",
     "model_module_version": "1.2.0",
     "model_name": "LayoutModel",
     "state": {
      "_model_module": "@jupyter-widgets/base",
      "_model_module_version": "1.2.0",
      "_model_name": "LayoutModel",
      "_view_count": null,
      "_view_module": "@jupyter-widgets/base",
      "_view_module_version": "1.2.0",
      "_view_name": "LayoutView",
      "align_content": null,
      "align_items": null,
      "align_self": null,
      "border": null,
      "bottom": null,
      "display": null,
      "flex": null,
      "flex_flow": null,
      "grid_area": null,
      "grid_auto_columns": null,
      "grid_auto_flow": null,
      "grid_auto_rows": null,
      "grid_column": null,
      "grid_gap": null,
      "grid_row": null,
      "grid_template_areas": null,
      "grid_template_columns": null,
      "grid_template_rows": null,
      "height": null,
      "justify_content": null,
      "justify_items": null,
      "left": null,
      "margin": null,
      "max_height": null,
      "max_width": null,
      "min_height": null,
      "min_width": null,
      "object_fit": null,
      "object_position": null,
      "order": null,
      "overflow": null,
      "overflow_x": null,
      "overflow_y": null,
      "padding": null,
      "right": null,
      "top": null,
      "visibility": null,
      "width": null
     }
    },
    "57673fa6e9b14321825125addc91128c": {
     "model_module": "@jupyter-widgets/controls",
     "model_module_version": "1.5.0",
     "model_name": "ProgressStyleModel",
     "state": {
      "_model_module": "@jupyter-widgets/controls",
      "_model_module_version": "1.5.0",
      "_model_name": "ProgressStyleModel",
      "_view_count": null,
      "_view_module": "@jupyter-widgets/base",
      "_view_module_version": "1.2.0",
      "_view_name": "StyleView",
      "bar_color": null,
      "description_width": ""
     }
    },
    "6ad8fb10c2974cd3a56e8ceb62b37293": {
     "model_module": "@jupyter-widgets/controls",
     "model_module_version": "1.5.0",
     "model_name": "FloatProgressModel",
     "state": {
      "_dom_classes": [],
      "_model_module": "@jupyter-widgets/controls",
      "_model_module_version": "1.5.0",
      "_model_name": "FloatProgressModel",
      "_view_count": null,
      "_view_module": "@jupyter-widgets/controls",
      "_view_module_version": "1.5.0",
      "_view_name": "ProgressView",
      "bar_style": "danger",
      "description": "",
      "description_tooltip": null,
      "layout": "IPY_MODEL_55317b5f00824bd790584f2ebd0b8572",
      "max": 1000000,
      "min": 0,
      "orientation": "horizontal",
      "style": "IPY_MODEL_e96dfdc62531497cbc8eda2f6f229fdd",
      "value": 5
     }
    },
    "79503d3470ea4f33bf6a1a5b0b334296": {
     "model_module": "@jupyter-widgets/base",
     "model_module_version": "1.2.0",
     "model_name": "LayoutModel",
     "state": {
      "_model_module": "@jupyter-widgets/base",
      "_model_module_version": "1.2.0",
      "_model_name": "LayoutModel",
      "_view_count": null,
      "_view_module": "@jupyter-widgets/base",
      "_view_module_version": "1.2.0",
      "_view_name": "LayoutView",
      "align_content": null,
      "align_items": null,
      "align_self": null,
      "border": null,
      "bottom": null,
      "display": null,
      "flex": null,
      "flex_flow": null,
      "grid_area": null,
      "grid_auto_columns": null,
      "grid_auto_flow": null,
      "grid_auto_rows": null,
      "grid_column": null,
      "grid_gap": null,
      "grid_row": null,
      "grid_template_areas": null,
      "grid_template_columns": null,
      "grid_template_rows": null,
      "height": null,
      "justify_content": null,
      "justify_items": null,
      "left": null,
      "margin": null,
      "max_height": null,
      "max_width": null,
      "min_height": null,
      "min_width": null,
      "object_fit": null,
      "object_position": null,
      "order": null,
      "overflow": null,
      "overflow_x": null,
      "overflow_y": null,
      "padding": null,
      "right": null,
      "top": null,
      "visibility": null,
      "width": null
     }
    },
    "7e5f4ec72d3d4244a5e5ba4abb2c647e": {
     "model_module": "@jupyter-widgets/controls",
     "model_module_version": "1.5.0",
     "model_name": "HTMLModel",
     "state": {
      "_dom_classes": [],
      "_model_module": "@jupyter-widgets/controls",
      "_model_module_version": "1.5.0",
      "_model_name": "HTMLModel",
      "_view_count": null,
      "_view_module": "@jupyter-widgets/controls",
      "_view_module_version": "1.5.0",
      "_view_name": "HTMLView",
      "description": "",
      "description_tooltip": null,
      "layout": "IPY_MODEL_5156cbf068154ebb9ee26cafe33b04de",
      "placeholder": "​",
      "style": "IPY_MODEL_12543732e7424554a55d83f296514ea2",
      "value": "  0%"
     }
    },
    "81708f4a410b4b429f16db57300dda47": {
     "model_module": "@jupyter-widgets/controls",
     "model_module_version": "1.5.0",
     "model_name": "DescriptionStyleModel",
     "state": {
      "_model_module": "@jupyter-widgets/controls",
      "_model_module_version": "1.5.0",
      "_model_name": "DescriptionStyleModel",
      "_view_count": null,
      "_view_module": "@jupyter-widgets/base",
      "_view_module_version": "1.2.0",
      "_view_name": "StyleView",
      "description_width": ""
     }
    },
    "873f32006e074650aa2e213e03eac3d6": {
     "model_module": "@jupyter-widgets/controls",
     "model_module_version": "1.5.0",
     "model_name": "HBoxModel",
     "state": {
      "_dom_classes": [],
      "_model_module": "@jupyter-widgets/controls",
      "_model_module_version": "1.5.0",
      "_model_name": "HBoxModel",
      "_view_count": null,
      "_view_module": "@jupyter-widgets/controls",
      "_view_module_version": "1.5.0",
      "_view_name": "HBoxView",
      "box_style": "",
      "children": [
       "IPY_MODEL_967b352127384046a6f83c5ff0175683",
       "IPY_MODEL_cb83679ae1b04b658917f0a6e948e6e9",
       "IPY_MODEL_e8f0e049bed94232ab04f3d491fcbd59"
      ],
      "layout": "IPY_MODEL_02f73038f62a47169d5ff2ac57e24afb"
     }
    },
    "8a377873d901434c91333648f923261b": {
     "model_module": "@jupyter-widgets/controls",
     "model_module_version": "1.5.0",
     "model_name": "HTMLModel",
     "state": {
      "_dom_classes": [],
      "_model_module": "@jupyter-widgets/controls",
      "_model_module_version": "1.5.0",
      "_model_name": "HTMLModel",
      "_view_count": null,
      "_view_module": "@jupyter-widgets/controls",
      "_view_module_version": "1.5.0",
      "_view_name": "HTMLView",
      "description": "",
      "description_tooltip": null,
      "layout": "IPY_MODEL_2d9c9dd4e619418893f91c02f5170249",
      "placeholder": "​",
      "style": "IPY_MODEL_aee2d58813bb4b7f98437311d80c894e",
      "value": "100%"
     }
    },
    "90c8a56ce7d745c79fa545513cc8d17f": {
     "model_module": "@jupyter-widgets/controls",
     "model_module_version": "1.5.0",
     "model_name": "ProgressStyleModel",
     "state": {
      "_model_module": "@jupyter-widgets/controls",
      "_model_module_version": "1.5.0",
      "_model_name": "ProgressStyleModel",
      "_view_count": null,
      "_view_module": "@jupyter-widgets/base",
      "_view_module_version": "1.2.0",
      "_view_name": "StyleView",
      "bar_color": null,
      "description_width": ""
     }
    },
    "94bf21e349c949818a56d34494ebcf98": {
     "model_module": "@jupyter-widgets/base",
     "model_module_version": "1.2.0",
     "model_name": "LayoutModel",
     "state": {
      "_model_module": "@jupyter-widgets/base",
      "_model_module_version": "1.2.0",
      "_model_name": "LayoutModel",
      "_view_count": null,
      "_view_module": "@jupyter-widgets/base",
      "_view_module_version": "1.2.0",
      "_view_name": "LayoutView",
      "align_content": null,
      "align_items": null,
      "align_self": null,
      "border": null,
      "bottom": null,
      "display": null,
      "flex": null,
      "flex_flow": null,
      "grid_area": null,
      "grid_auto_columns": null,
      "grid_auto_flow": null,
      "grid_auto_rows": null,
      "grid_column": null,
      "grid_gap": null,
      "grid_row": null,
      "grid_template_areas": null,
      "grid_template_columns": null,
      "grid_template_rows": null,
      "height": null,
      "justify_content": null,
      "justify_items": null,
      "left": null,
      "margin": null,
      "max_height": null,
      "max_width": null,
      "min_height": null,
      "min_width": null,
      "object_fit": null,
      "object_position": null,
      "order": null,
      "overflow": null,
      "overflow_x": null,
      "overflow_y": null,
      "padding": null,
      "right": null,
      "top": null,
      "visibility": null,
      "width": null
     }
    },
    "967b352127384046a6f83c5ff0175683": {
     "model_module": "@jupyter-widgets/controls",
     "model_module_version": "1.5.0",
     "model_name": "HTMLModel",
     "state": {
      "_dom_classes": [],
      "_model_module": "@jupyter-widgets/controls",
      "_model_module_version": "1.5.0",
      "_model_name": "HTMLModel",
      "_view_count": null,
      "_view_module": "@jupyter-widgets/controls",
      "_view_module_version": "1.5.0",
      "_view_name": "HTMLView",
      "description": "",
      "description_tooltip": null,
      "layout": "IPY_MODEL_94bf21e349c949818a56d34494ebcf98",
      "placeholder": "​",
      "style": "IPY_MODEL_b9f29c626c7f4fa6b1ff87f841a1140e",
      "value": "100%"
     }
    },
    "aee2d58813bb4b7f98437311d80c894e": {
     "model_module": "@jupyter-widgets/controls",
     "model_module_version": "1.5.0",
     "model_name": "DescriptionStyleModel",
     "state": {
      "_model_module": "@jupyter-widgets/controls",
      "_model_module_version": "1.5.0",
      "_model_name": "DescriptionStyleModel",
      "_view_count": null,
      "_view_module": "@jupyter-widgets/base",
      "_view_module_version": "1.2.0",
      "_view_name": "StyleView",
      "description_width": ""
     }
    },
    "b0b9cc5bfb4c45debd34ec569a825302": {
     "model_module": "@jupyter-widgets/controls",
     "model_module_version": "1.5.0",
     "model_name": "DescriptionStyleModel",
     "state": {
      "_model_module": "@jupyter-widgets/controls",
      "_model_module_version": "1.5.0",
      "_model_name": "DescriptionStyleModel",
      "_view_count": null,
      "_view_module": "@jupyter-widgets/base",
      "_view_module_version": "1.2.0",
      "_view_name": "StyleView",
      "description_width": ""
     }
    },
    "b9f29c626c7f4fa6b1ff87f841a1140e": {
     "model_module": "@jupyter-widgets/controls",
     "model_module_version": "1.5.0",
     "model_name": "DescriptionStyleModel",
     "state": {
      "_model_module": "@jupyter-widgets/controls",
      "_model_module_version": "1.5.0",
      "_model_name": "DescriptionStyleModel",
      "_view_count": null,
      "_view_module": "@jupyter-widgets/base",
      "_view_module_version": "1.2.0",
      "_view_name": "StyleView",
      "description_width": ""
     }
    },
    "c376c83e3819426db3e15f78e076a2ea": {
     "model_module": "@jupyter-widgets/base",
     "model_module_version": "1.2.0",
     "model_name": "LayoutModel",
     "state": {
      "_model_module": "@jupyter-widgets/base",
      "_model_module_version": "1.2.0",
      "_model_name": "LayoutModel",
      "_view_count": null,
      "_view_module": "@jupyter-widgets/base",
      "_view_module_version": "1.2.0",
      "_view_name": "LayoutView",
      "align_content": null,
      "align_items": null,
      "align_self": null,
      "border": null,
      "bottom": null,
      "display": null,
      "flex": null,
      "flex_flow": null,
      "grid_area": null,
      "grid_auto_columns": null,
      "grid_auto_flow": null,
      "grid_auto_rows": null,
      "grid_column": null,
      "grid_gap": null,
      "grid_row": null,
      "grid_template_areas": null,
      "grid_template_columns": null,
      "grid_template_rows": null,
      "height": null,
      "justify_content": null,
      "justify_items": null,
      "left": null,
      "margin": null,
      "max_height": null,
      "max_width": null,
      "min_height": null,
      "min_width": null,
      "object_fit": null,
      "object_position": null,
      "order": null,
      "overflow": null,
      "overflow_x": null,
      "overflow_y": null,
      "padding": null,
      "right": null,
      "top": null,
      "visibility": null,
      "width": null
     }
    },
    "c440abb4b8be49849d30d9220fdcae7d": {
     "model_module": "@jupyter-widgets/base",
     "model_module_version": "1.2.0",
     "model_name": "LayoutModel",
     "state": {
      "_model_module": "@jupyter-widgets/base",
      "_model_module_version": "1.2.0",
      "_model_name": "LayoutModel",
      "_view_count": null,
      "_view_module": "@jupyter-widgets/base",
      "_view_module_version": "1.2.0",
      "_view_name": "LayoutView",
      "align_content": null,
      "align_items": null,
      "align_self": null,
      "border": null,
      "bottom": null,
      "display": null,
      "flex": null,
      "flex_flow": null,
      "grid_area": null,
      "grid_auto_columns": null,
      "grid_auto_flow": null,
      "grid_auto_rows": null,
      "grid_column": null,
      "grid_gap": null,
      "grid_row": null,
      "grid_template_areas": null,
      "grid_template_columns": null,
      "grid_template_rows": null,
      "height": null,
      "justify_content": null,
      "justify_items": null,
      "left": null,
      "margin": null,
      "max_height": null,
      "max_width": null,
      "min_height": null,
      "min_width": null,
      "object_fit": null,
      "object_position": null,
      "order": null,
      "overflow": null,
      "overflow_x": null,
      "overflow_y": null,
      "padding": null,
      "right": null,
      "top": null,
      "visibility": null,
      "width": null
     }
    },
    "cb83679ae1b04b658917f0a6e948e6e9": {
     "model_module": "@jupyter-widgets/controls",
     "model_module_version": "1.5.0",
     "model_name": "FloatProgressModel",
     "state": {
      "_dom_classes": [],
      "_model_module": "@jupyter-widgets/controls",
      "_model_module_version": "1.5.0",
      "_model_name": "FloatProgressModel",
      "_view_count": null,
      "_view_module": "@jupyter-widgets/controls",
      "_view_module_version": "1.5.0",
      "_view_name": "ProgressView",
      "bar_style": "success",
      "description": "",
      "description_tooltip": null,
      "layout": "IPY_MODEL_40fbe7abb8a6494da9f5507e79b171e2",
      "max": 466,
      "min": 0,
      "orientation": "horizontal",
      "style": "IPY_MODEL_57673fa6e9b14321825125addc91128c",
      "value": 466
     }
    },
    "dce8c9be86b6430d9c1333d76c3bf81d": {
     "model_module": "@jupyter-widgets/controls",
     "model_module_version": "1.5.0",
     "model_name": "FloatProgressModel",
     "state": {
      "_dom_classes": [],
      "_model_module": "@jupyter-widgets/controls",
      "_model_module_version": "1.5.0",
      "_model_name": "FloatProgressModel",
      "_view_count": null,
      "_view_module": "@jupyter-widgets/controls",
      "_view_module_version": "1.5.0",
      "_view_name": "ProgressView",
      "bar_style": "success",
      "description": "",
      "description_tooltip": null,
      "layout": "IPY_MODEL_c376c83e3819426db3e15f78e076a2ea",
      "max": 202,
      "min": 0,
      "orientation": "horizontal",
      "style": "IPY_MODEL_90c8a56ce7d745c79fa545513cc8d17f",
      "value": 202
     }
    },
    "e8f0e049bed94232ab04f3d491fcbd59": {
     "model_module": "@jupyter-widgets/controls",
     "model_module_version": "1.5.0",
     "model_name": "HTMLModel",
     "state": {
      "_dom_classes": [],
      "_model_module": "@jupyter-widgets/controls",
      "_model_module_version": "1.5.0",
      "_model_name": "HTMLModel",
      "_view_count": null,
      "_view_module": "@jupyter-widgets/controls",
      "_view_module_version": "1.5.0",
      "_view_name": "HTMLView",
      "description": "",
      "description_tooltip": null,
      "layout": "IPY_MODEL_c440abb4b8be49849d30d9220fdcae7d",
      "placeholder": "​",
      "style": "IPY_MODEL_b0b9cc5bfb4c45debd34ec569a825302",
      "value": " 466/466 [00:02&lt;00:00, 226.85it/s]"
     }
    },
    "e96dfdc62531497cbc8eda2f6f229fdd": {
     "model_module": "@jupyter-widgets/controls",
     "model_module_version": "1.5.0",
     "model_name": "ProgressStyleModel",
     "state": {
      "_model_module": "@jupyter-widgets/controls",
      "_model_module_version": "1.5.0",
      "_model_name": "ProgressStyleModel",
      "_view_count": null,
      "_view_module": "@jupyter-widgets/base",
      "_view_module_version": "1.2.0",
      "_view_name": "StyleView",
      "bar_color": null,
      "description_width": ""
     }
    },
    "ee1221f8046549f1a25c4944f031dbf7": {
     "model_module": "@jupyter-widgets/base",
     "model_module_version": "1.2.0",
     "model_name": "LayoutModel",
     "state": {
      "_model_module": "@jupyter-widgets/base",
      "_model_module_version": "1.2.0",
      "_model_name": "LayoutModel",
      "_view_count": null,
      "_view_module": "@jupyter-widgets/base",
      "_view_module_version": "1.2.0",
      "_view_name": "LayoutView",
      "align_content": null,
      "align_items": null,
      "align_self": null,
      "border": null,
      "bottom": null,
      "display": null,
      "flex": null,
      "flex_flow": null,
      "grid_area": null,
      "grid_auto_columns": null,
      "grid_auto_flow": null,
      "grid_auto_rows": null,
      "grid_column": null,
      "grid_gap": null,
      "grid_row": null,
      "grid_template_areas": null,
      "grid_template_columns": null,
      "grid_template_rows": null,
      "height": null,
      "justify_content": null,
      "justify_items": null,
      "left": null,
      "margin": null,
      "max_height": null,
      "max_width": null,
      "min_height": null,
      "min_width": null,
      "object_fit": null,
      "object_position": null,
      "order": null,
      "overflow": null,
      "overflow_x": null,
      "overflow_y": null,
      "padding": null,
      "right": null,
      "top": null,
      "visibility": null,
      "width": null
     }
    },
    "f5545b9fd1c94245a9499896886dbc65": {
     "model_module": "@jupyter-widgets/controls",
     "model_module_version": "1.5.0",
     "model_name": "DescriptionStyleModel",
     "state": {
      "_model_module": "@jupyter-widgets/controls",
      "_model_module_version": "1.5.0",
      "_model_name": "DescriptionStyleModel",
      "_view_count": null,
      "_view_module": "@jupyter-widgets/base",
      "_view_module_version": "1.2.0",
      "_view_name": "StyleView",
      "description_width": ""
     }
    }
   }
  }
 },
 "nbformat": 4,
 "nbformat_minor": 1
}
